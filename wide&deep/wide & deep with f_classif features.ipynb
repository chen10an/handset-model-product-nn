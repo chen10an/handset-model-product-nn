{
 "cells": [
  {
   "cell_type": "code",
   "execution_count": 1,
   "metadata": {},
   "outputs": [
    {
     "name": "stderr",
     "output_type": "stream",
     "text": [
      "Using TensorFlow backend.\n"
     ]
    }
   ],
   "source": [
    "from __future__ import absolute_import\n",
    "from __future__ import division\n",
    "from __future__ import print_function\n",
    "\n",
    "import argparse\n",
    "import sys\n",
    "import tempfile\n",
    "\n",
    "from six.moves import urllib\n",
    "\n",
    "import pandas as pd\n",
    "import tensorflow as tf\n",
    "import numpy as np\n",
    "\n",
    "import pickle\n",
    "\n",
    "# file\n",
    "import os\n",
    "os.environ['TF_CPP_MIN_LOG_LEVEL']='2'  # get rid of some tf warnings\n",
    "os.chdir(\"..\")\n",
    "\n",
    "# IMPORTANT:\n",
    "import handset_model_current as handset_model  # set F_CLASSIF=True in file\n",
    "# use the following code in preprocess_data()\n",
    "#  elif cat_encoding == 'one-hot':\n",
    "#     df_cat = df[CATEGORICAL_COLS]\n",
    "#     # instead of df_cat = _one_hot_encode(df, cat_levels, binary_enc=binary_enc)\n",
    "\n",
    "\n",
    "os.chdir(\"wide&deep\")"
   ]
  },
  {
   "cell_type": "code",
   "execution_count": 2,
   "metadata": {
    "collapsed": true
   },
   "outputs": [],
   "source": [
    "def bool_arg(string):\n",
    "    value = string.lower()\n",
    "    if value == 'true':\n",
    "        return True\n",
    "    elif value == 'false':\n",
    "        return False\n",
    "    else:\n",
    "        raise argparse.ArgumentTypeError(\"Expected True or False, but got {}\".format(string))\n",
    "\n",
    "# minimal preprocessing\n",
    "parser = argparse.ArgumentParser()\n",
    "\n",
    "# model hyperparameters\n",
    "# small number of epochs for experimentation\n",
    "parser.add_argument('--epochs', default=10, type=int,\n",
    "                    help=\"Nr of epochs. Default is 100\", dest=\"epochs\")\n",
    "parser.add_argument('--batch_size', default=256, type=int,\n",
    "                    help=\"Batch size. Default is 32\", dest=\"batch_size\")\n",
    "parser.add_argument('--earlystop', default=3, type=int,\n",
    "                    help=\"Number of epochs with no improvement after which training will be stopped.\",\n",
    "                    dest=\"earlystop\")\n",
    "parser.add_argument('--verbose', default=True, type=bool_arg, help=\"If True (default), verbose output\",\n",
    "                    dest=\"verbose\")\n",
    "\n",
    "# cross_val is not ready to be used\n",
    "parser.add_argument('--cross_val', default=0, type=int,\n",
    "                    help=\"Number of folds (if bigger than 0) to use for cross validation. Default is 0.\",\n",
    "                    dest=\"cross_val\")\n",
    "\n",
    "# no applying class weights\n",
    "parser.add_argument('--apply_class_weights', default=False, type=bool_arg,\n",
    "                    help=\"If True, apply different loss weights (based on frequency of samples) to different \"\n",
    "                         \"classes.\",\n",
    "                    dest=\"apply_class_weights\")\n",
    "\n",
    "# no smooth factor\n",
    "parser.add_argument('--smooth_factor', default=0, type=float,\n",
    "                    help=\"Smooth factor to be used when calculating class weights, so that highly unfrequent \"\n",
    "                    \"classes do not get huge weights.\",\n",
    "                    dest=\"smooth_factor\")\n",
    "\n",
    "# oversampling with neg to pos ratio=3\n",
    "parser.add_argument('--oversample', default=True, type=bool_arg,\n",
    "                    help=\"If True (default), apply oversampling to generate balanced batches.\",\n",
    "                    dest=\"oversample\")\n",
    "parser.add_argument('--ratio', default=3, type=int,\n",
    "                    help=\"Ratio of negative to positive samples to use for balanced batch generation \"\n",
    "                         \"(if oversample=True)\",\n",
    "                    dest=\"ratio\")\n",
    "\n",
    "# activation: prelu\n",
    "parser.add_argument('--activation', default='prelu',\n",
    "                    help=\"NN activation to be used. Default is prelu\",\n",
    "                    dest=\"activation\")\n",
    "\n",
    "# no x_vars\n",
    "parser.add_argument('--x_vars', default=False, type=bool_arg, help=\"If True (default), include X variables\",\n",
    "                    dest=\"x_vars\")\n",
    "\n",
    "# standardize numerical data\n",
    "parser.add_argument('--std', default=True, type=bool_arg, help=\"If True (default), standardize data.\",\n",
    "                    dest=\"std\")\n",
    "\n",
    "# no pca\n",
    "parser.add_argument('--pca_whiten', default=False, type=bool_arg, help=\"If True (default), PCA-whiten data.\",\n",
    "                    dest=\"pca_whiten\")\n",
    "parser.add_argument('--pca_reduce', default=0, type=float,\n",
    "                    help=\"{0, 1, 0<x<1} If 0, no dimensionality reduction is done. If 1, Thomas P. Minka's method \"\n",
    "                         \"('Automatic Choice of Dimensionality for PCA'. NIPS 2000) is used to determine the \"\n",
    "                         \"number of dimensions to keep. If 0 < pca_reduce < 1, enough number of dimensions will \"\n",
    "                         \"be kept to keep 'pca_reduce' percentage of variance explained. Default is 0.9.\",\n",
    "                    dest=\"pca_reduce\")\n",
    "\n",
    "# one-hot encode cat data (embeddings are not used)\n",
    "parser.add_argument('--cat_enc', default='one-hot',\n",
    "                    help=\"Encoding to be used for categorical variables. Default is 'integer' \"\n",
    "                         \"(embedding layers will then be used). Other alternatives: 'hashing_char', \"\n",
    "                         \"'hashing_all', 'one-hot'.\",\n",
    "                    dest=\"cat_enc\")\n",
    "\n",
    "# no log transform\n",
    "parser.add_argument('--log_xform', default=False, type=bool_arg, help=\"If True (default), log-transform data.\",\n",
    "                    dest=\"log_xform\")\n",
    "\n",
    "# encode categorical and binary data as 1/0\n",
    "parser.add_argument('--binary_enc', default=True, type=bool_arg,\n",
    "                    help=\"If False (default), the negative cases of binary variables will be represented as -1 \"\n",
    "                         \"instead of 0.\", dest=\"binary_enc\")\n",
    "\n",
    "# id for saving/ loading\n",
    "parser.add_argument('--data_split_id', default=5, type=int,\n",
    "                    help=\"Id for the train-test data split to be used. If a new id is given, a new data split \"\n",
    "                         \"will be generated and saved to disk with the given id. If id is 0 (default), a new \"\n",
    "                         \"split will be generated, but not saved to disk. If a previously used id is given, \"\n",
    "                         \"a previously generated and saved data split with that id will be used.\",\n",
    "                    dest=\"data_split_id\")\n",
    "parser.add_argument(\"-f\")\n",
    "args = parser.parse_args()"
   ]
  },
  {
   "cell_type": "code",
   "execution_count": 3,
   "metadata": {},
   "outputs": [
    {
     "name": "stdout",
     "output_type": "stream",
     "text": [
      "generating dictionary with levels of catagorical variables...\n",
      "Reusing data split with id=5\n",
      "Loading previously pre-processed numerical data...\n",
      "Loading previously pre-processed categorical data...\n"
     ]
    }
   ],
   "source": [
    "os.chdir('..')\n",
    "data_train, data_test, cat_levels = handset_model.load_and_preprocess_data(args)  # use split_id=5\n",
    "os.chdir('wide&deep')"
   ]
  },
  {
   "cell_type": "code",
   "execution_count": 4,
   "metadata": {},
   "outputs": [
    {
     "data": {
      "text/plain": [
       "((466632, 7), (466632, 8))"
      ]
     },
     "execution_count": 4,
     "metadata": {},
     "output_type": "execute_result"
    }
   ],
   "source": [
    "data_train['num'].shape, data_train['cat'].shape  # 2nd dim should be 7 and 8"
   ]
  },
  {
   "cell_type": "code",
   "execution_count": 5,
   "metadata": {},
   "outputs": [
    {
     "name": "stdout",
     "output_type": "stream",
     "text": [
      "CU_MAP_SEGMENT 7\n",
      "CLM_LIVSFASE_SEGMENT 7\n",
      "CU_U_MAIN_DEV_OS_TYPE 25\n",
      "CU_U_MAIN_DEV_PRODUCERNAME 17\n",
      "MPP_DEVICE_OS_TYPE 8\n",
      "MPP_DEVICE_PRODUCERNAME 16\n",
      "CU_U_MAIN_DEV_MODELNAME 77\n",
      "MPP_DEVICE_MODELNAME 78\n"
     ]
    }
   ],
   "source": [
    "for k,v in cat_levels.items():\n",
    "    print(k, len(v))"
   ]
  },
  {
   "cell_type": "code",
   "execution_count": 6,
   "metadata": {
    "collapsed": true
   },
   "outputs": [],
   "source": [
    "# wide and deep example:\n",
    "# https://github.com/tensorflow/tensorflow/blob/r1.3/tensorflow/examples/learn/wide_n_deep_tutorial.py"
   ]
  },
  {
   "cell_type": "code",
   "execution_count": 7,
   "metadata": {},
   "outputs": [
    {
     "data": {
      "text/plain": [
       "16"
      ]
     },
     "execution_count": 7,
     "metadata": {},
     "output_type": "execute_result"
    }
   ],
   "source": [
    "COLUMNS = handset_model.COLS\n",
    "len(COLUMNS)  # should be 7+8+1=16"
   ]
  },
  {
   "cell_type": "code",
   "execution_count": 8,
   "metadata": {},
   "outputs": [
    {
     "data": {
      "text/plain": [
       "15"
      ]
     },
     "execution_count": 8,
     "metadata": {},
     "output_type": "execute_result"
    }
   ],
   "source": [
    "COLUMNS.remove(handset_model.LABEL_COL)\n",
    "len(COLUMNS)"
   ]
  },
  {
   "cell_type": "code",
   "execution_count": 9,
   "metadata": {},
   "outputs": [
    {
     "data": {
      "text/plain": [
       "(['CU_MAP_SEGMENT',\n",
       "  'CLM_LIVSFASE_SEGMENT',\n",
       "  'CU_U_MAIN_DEV_OS_TYPE',\n",
       "  'CU_U_MAIN_DEV_PRODUCERNAME',\n",
       "  'MPP_DEVICE_OS_TYPE',\n",
       "  'MPP_DEVICE_PRODUCERNAME',\n",
       "  'CU_U_MAIN_DEV_MODELNAME',\n",
       "  'MPP_DEVICE_MODELNAME'],\n",
       " ['CU_AGE',\n",
       "  'CU_U_NET_REV_AVG_3MO',\n",
       "  'CU_U_MB_AVG_3MO',\n",
       "  'MPP_MB_AVG_3MO',\n",
       "  'MPP_NO_VOICE_DOM_LAST2',\n",
       "  'MPP_GROSS_PERIODIC_FEE_FULL',\n",
       "  'MPP_NET_REVENUE'])"
      ]
     },
     "execution_count": 9,
     "metadata": {},
     "output_type": "execute_result"
    }
   ],
   "source": [
    "LABEL_COLUMN = handset_model.LABEL_COL\n",
    "CATEGORICAL_COLUMNS = handset_model.CATEGORICAL_COLS\n",
    "CONTINUOUS_COLUMNS = [i for i in COLUMNS if i not in CATEGORICAL_COLUMNS]\n",
    "\n",
    "CATEGORICAL_COLUMNS, CONTINUOUS_COLUMNS"
   ]
  },
  {
   "cell_type": "code",
   "execution_count": 10,
   "metadata": {
    "collapsed": true
   },
   "outputs": [],
   "source": [
    "def build_estimator(model_dir, model_type):\n",
    "    \"\"\"Build an estimator.\"\"\"\n",
    "    # Sparse base columns.\n",
    "    cu_map = tf.contrib.layers.sparse_column_with_keys(\n",
    "        column_name=\"CU_MAP_SEGMENT\", keys=cat_levels[\"CU_MAP_SEGMENT\"])\n",
    "    \n",
    "    clm_livsfase = tf.contrib.layers.sparse_column_with_keys(\n",
    "      column_name=\"CLM_LIVSFASE_SEGMENT\", keys=cat_levels['CLM_LIVSFASE_SEGMENT'])\n",
    "    \n",
    "    cu_os_type = tf.contrib.layers.sparse_column_with_keys(\n",
    "      column_name=\"CU_U_MAIN_DEV_OS_TYPE\", keys=cat_levels['CU_U_MAIN_DEV_OS_TYPE'])\n",
    "    \n",
    "    cu_producername = tf.contrib.layers.sparse_column_with_keys(\n",
    "      column_name=\"CU_U_MAIN_DEV_PRODUCERNAME\", keys=cat_levels['CU_U_MAIN_DEV_PRODUCERNAME'])\n",
    "    \n",
    "    mpp_os_type = tf.contrib.layers.sparse_column_with_keys(\n",
    "      column_name=\"MPP_DEVICE_OS_TYPE\", keys=cat_levels['MPP_DEVICE_OS_TYPE'])\n",
    "    \n",
    "    mpp_producername = tf.contrib.layers.sparse_column_with_keys(\n",
    "      column_name=\"MPP_DEVICE_PRODUCERNAME\", keys=cat_levels['MPP_DEVICE_PRODUCERNAME'])\n",
    "    \n",
    "    cu_modelname = tf.contrib.layers.sparse_column_with_keys(\n",
    "      column_name=\"CU_U_MAIN_DEV_MODELNAME\", keys=cat_levels['CU_U_MAIN_DEV_MODELNAME'])\n",
    "    \n",
    "    mpp_modelname = tf.contrib.layers.sparse_column_with_keys(\n",
    "      column_name=\"MPP_DEVICE_MODELNAME\", keys=cat_levels['MPP_DEVICE_MODELNAME'])\n",
    "\n",
    "    # Continuous base columns.\n",
    "    cu_age = tf.contrib.layers.real_valued_column('CU_AGE')\n",
    "    cu_rev = tf.contrib.layers.real_valued_column('CU_U_NET_REV_AVG_3MO')\n",
    "    cu_mb = tf.contrib.layers.real_valued_column('CU_U_MB_AVG_3MO')\n",
    "    mpp_mb = tf.contrib.layers.real_valued_column('MPP_MB_AVG_3MO')\n",
    "    mpp_no_voice = tf.contrib.layers.real_valued_column('MPP_NO_VOICE_DOM_LAST2')\n",
    "    mpp_fee = tf.contrib.layers.real_valued_column('MPP_GROSS_PERIODIC_FEE_FULL')\n",
    "    mpp_rev = tf.contrib.layers.real_valued_column('MPP_NET_REVENUE')\n",
    "    \n",
    "    # will not do transformations since numerical data is standardized\n",
    "    # Transformations.\n",
    "#     age_buckets = tf.contrib.layers.bucketized_column(age,\n",
    "#                                                     boundaries=[\n",
    "#                                                         18, 25, 30, 35, 40, 45,\n",
    "#                                                         50, 55, 60, 65\n",
    "#                                                     ])\n",
    "\n",
    "    # Wide columns and deep columns.\n",
    "    cat_cols = [cu_map, clm_livsfase, cu_os_type, cu_producername, mpp_os_type,\n",
    "                  mpp_producername, cu_modelname, mpp_modelname]\n",
    "    \n",
    "    wide_columns = cat_cols\n",
    "    \n",
    "    np.random.seed(0)\n",
    "    # make 5 random crossed cols\n",
    "    i = 0\n",
    "    while i < 5:\n",
    "        a = np.random.randint(0, len(cat_cols))\n",
    "        b = np.random.randint(0, len(cat_cols))\n",
    "        if cat_cols[a] != cat_cols[b]:\n",
    "            cross_col = tf.contrib.layers.crossed_column([cat_cols[a], cat_cols[b]], hash_bucket_size=int(1e4))\n",
    "            wide_columns.append(cross_col)\n",
    "            i += 1\n",
    "    \n",
    "    # according to the wide and deep tensorflow tutorial:\n",
    "    # \"Empirically, a more informed decision for the number of dimensions is to \n",
    "    # start with a value on the order of log(n) (base 2) or kn^(1/4), \n",
    "    # where n is the number of unique features in a feature column and \n",
    "    # k is a small constant (usually smaller than 10).\"\n",
    "    \n",
    "    # I will try log(n)\n",
    "    def log2_unique(sparse_column_with_keys):\n",
    "        return np.floor(np.log2(len(sparse_column_with_keys[3][1])))\n",
    "    \n",
    "    deep_columns = [\n",
    "        tf.contrib.layers.embedding_column(cu_map, dimension=log2_unique(cu_map)),\n",
    "        tf.contrib.layers.embedding_column(clm_livsfase, dimension=log2_unique(clm_livsfase)),\n",
    "        tf.contrib.layers.embedding_column(cu_os_type, dimension=log2_unique(cu_os_type)),\n",
    "        tf.contrib.layers.embedding_column(cu_producername, dimension=log2_unique(cu_producername)),\n",
    "        tf.contrib.layers.embedding_column(mpp_os_type, dimension=log2_unique(mpp_os_type)),\n",
    "        tf.contrib.layers.embedding_column(mpp_producername, dimension=log2_unique(mpp_producername)),\n",
    "        tf.contrib.layers.embedding_column(cu_modelname, dimension=log2_unique(cu_modelname)),\n",
    "        tf.contrib.layers.embedding_column(mpp_modelname, dimension=log2_unique(mpp_modelname)),\n",
    "\n",
    "        cu_age,\n",
    "        cu_rev,\n",
    "        cu_mb,\n",
    "        mpp_mb,\n",
    "        mpp_no_voice,\n",
    "        mpp_fee,\n",
    "        mpp_rev\n",
    "        ]\n",
    "\n",
    "    if model_type == \"wide\":\n",
    "        m = tf.contrib.learn.LinearClassifier(model_dir=model_dir,\n",
    "                                              feature_columns=wide_columns)\n",
    "    elif model_type == \"deep\":\n",
    "        m = tf.contrib.learn.DNNClassifier(model_dir=model_dir,\n",
    "                                           feature_columns=deep_columns,\n",
    "                                           hidden_units=[128, 128, 128])\n",
    "    else:\n",
    "        m = tf.contrib.learn.DNNLinearCombinedClassifier(\n",
    "            model_dir=model_dir,\n",
    "            linear_feature_columns=wide_columns,\n",
    "            dnn_feature_columns=deep_columns,\n",
    "            dnn_hidden_units=[128, 128, 128],\n",
    "            fix_global_step_increment_bug=True)\n",
    "    return m"
   ]
  },
  {
   "cell_type": "code",
   "execution_count": 11,
   "metadata": {
    "collapsed": true
   },
   "outputs": [],
   "source": [
    "def input_fn(df):\n",
    "    \"\"\"Input builder function.\"\"\"\n",
    "    # Creates a dictionary mapping from each continuous feature column name (k) to\n",
    "    # the values of that column stored in a constant Tensor.\n",
    "    continuous_cols = {k: tf.constant(df[k].values) for k in CONTINUOUS_COLUMNS}\n",
    "    # Creates a dictionary mapping from each categorical feature column name (k)\n",
    "    # to the values of that column stored in a tf.SparseTensor.\n",
    "    categorical_cols = {\n",
    "      k: tf.SparseTensor(\n",
    "          indices=[[i, 0] for i in range(df[k].size)],\n",
    "          values=df[k].values,\n",
    "          dense_shape=[df[k].size, 1])\n",
    "      for k in CATEGORICAL_COLUMNS}\n",
    "    # Merges the two dictionaries into one.\n",
    "    feature_cols = dict(continuous_cols)\n",
    "    feature_cols.update(categorical_cols)\n",
    "    # Converts the label column into a constant Tensor.\n",
    "    label = tf.constant(df[LABEL_COLUMN].values)\n",
    "    # Returns the feature columns and the label.\n",
    "    return feature_cols, label"
   ]
  },
  {
   "cell_type": "code",
   "execution_count": 12,
   "metadata": {
    "scrolled": false
   },
   "outputs": [
    {
     "name": "stdout",
     "output_type": "stream",
     "text": [
      "model directory = wide&deep_model\n"
     ]
    },
    {
     "data": {
      "text/plain": [
       "DNNLinearCombinedClassifier(params={'head': <tensorflow.contrib.learn.python.learn.estimators.head._BinaryLogisticHead object at 0x117489f28>, 'linear_feature_columns': (_SparseColumnKeys(column_name='CU_MAP_SEGMENT', is_integerized=False, bucket_size=None, lookup_config=_SparseIdLookupConfig(vocabulary_file=None, keys=('1', '0', '4', '6', '5', '3', '2'), num_oov_buckets=0, vocab_size=7, default_value=-1), combiner='sum', dtype=tf.string), _SparseColumnKeys(column_name='CLM_LIVSFASE_SEGMENT', is_integerized=False, bucket_size=None, lookup_config=_SparseIdLookupConfig(vocabulary_file=None, keys=('godt voksen', 'småbarnsfamilie', 'senior', 'etablert barnefamilie', 'ung voksen', 'voksen uten barn', 'ungdom'), num_oov_buckets=0, vocab_size=7, default_value=-1), combiner='sum', dtype=tf.string), _SparseColumnKeys(column_name='CU_U_MAIN_DEV_OS_TYPE', is_integerized=False, bucket_size=None, lookup_config=_SparseIdLookupConfig(vocabulary_file=None, keys=('iphone os', 'unknown', 'proprietary os', 'android', 'microsoft windows phone', 'linux maemo', 'firefox os', 'asha', 'symbian 9.2', 'symbian 9.4', 'symbian 9.3', 'symbian ^3', 'bada', 'microsoft mobile 6', 'microsoft mobile 6.5', 'blackberry os', 'symbian anna', 'symbian belle', 'symbian 9.1', 'symbian 9.1 release 3.0', 'blackberry os 10', 'microsoft mobile 6.1', 'symbian 8.1a', 'symbian 7.0', 'symbian 8.0a'), num_oov_buckets=0, vocab_size=25, default_value=-1), combiner='sum', dtype=tf.string), _SparseColumnKeys(column_name='CU_U_MAIN_DEV_PRODUCERNAME', is_integerized=False, bucket_size=None, lookup_config=_SparseIdLookupConfig(vocabulary_file=None, keys=('apple', 'unknown', 'other', 'sony', 'huawei', 'samsung', 'nokia', 'lg', 'htc', 'microsoft mobile oy', 'motorola', 'compal', 'doro', 'caterpillar', 'sonyericsson', 'zte', 'quectel'), num_oov_buckets=0, vocab_size=17, default_value=-1), combiner='sum', dtype=tf.string), _SparseColumnKeys(column_name='MPP_DEVICE_OS_TYPE', is_integerized=False, bucket_size=None, lookup_config=_SparseIdLookupConfig(vocabulary_file=None, keys=('iphone os', 'android', 'unknown', 'microsoft', 'symbian', 'other', 'firefox os', 'blackberry'), num_oov_buckets=0, vocab_size=8, default_value=-1), combiner='sum', dtype=tf.string), _SparseColumnKeys(column_name='MPP_DEVICE_PRODUCERNAME', is_integerized=False, bucket_size=None, lookup_config=_SparseIdLookupConfig(vocabulary_file=None, keys=('apple', 'samsung', 'unknown', 'sony', 'huawei', 'nokia', 'lg', 'htc', 'microsoft mobile oy', 'compal', 'zte', 'sonyericsson', 'caterpillar', 'doro', 'other', 'motorola'), num_oov_buckets=0, vocab_size=16, default_value=-1), combiner='sum', dtype=tf.string), _SparseColumnKeys(column_name='CU_U_MAIN_DEV_MODELNAME', is_integerized=False, bucket_size=None, lookup_config=_SparseIdLookupConfig(vocabulary_file=None, keys=('iphone 6s plus', 'unknown', 'iphone 6 plus', 'other', 'sony_other', 'iphone 6 (a1586)', 'honor 7', 'iphone 6s', 'iphone 5', 'iphone 5s', 'iphone 5c', 'd6503 (xperia z2)', 'sm-g850f (galaxy alpha)', 'nokia_other', 'c6903 (xperia z1)', 'iphone 4s', 'gt-i9295 (galaxy s4 active)', 'd6603 (xperia z3)', 'gt-i9505 (galaxy s4 lte)', 'sm-g900f (galaxy s5)', 'd5803 (xperia z3 compact)', 'sm-g928f (galaxy s6 edge+)', 'sm-n9005 (galaxy note 3 lte)', 'lg_other', 'sm-g925f( galaxy s6 edge)', 'sm-a310f (galaxy a3 2016)', 'sm-g920f ( galaxy s6)', 'one (m7)', 'lumia 640', 'sm-g935f (galaxy s7 edge)', 'samsung_other', 'e5823 (xperia z5 compact)', 'iphone 4', 'honor 6 (h60-l04)', 'sm-g388f (galaxy xcover 3)', 'iphone se (a1723)', 'lumia 925', 'sm-n910f (galaxy note 4)', 'sm-g357fz (galaxy ace 4)', 'gt-s7580 (galaxy trend plus)', 'gt-i9300 (galaxy s iii)', 'gt-i9100 (galaxy s ii)', 'htc_other', 'd5503 (xperia z1 compact)', 'gt-i9305 (galaxy s iii lte)', 'sm-g930f (galaxy s7)', 'sm-g901f (galaxy s5 lte-a)', 'motorola_other', 'sm-g903f (galaxy s5 neo)', 'huawei_other', 'sm-j100h (galaxy j1)', 'compal_other', 'doro_other', 'caterpillar_other', 'sonyericsson_other', 'gt-i9195 (galaxy s4 mini)', 'sm-a300fu (galaxy a3)', 'lt25i (xperia v)', 'zte_other', 'ascend p7', 'apple_other', 'e6553 (xperia z3+)', 'one (m8)', 'c6603 (xperia z)', 'p8', 'p8 lite', 'sm-j500fn (galaxy j5)', 'microsoft mobile oy_other', 'p8 (gra-l09)', 'gt-s7710 ( xcover ii )', 'gt-i8190n (gs iii mini nfc)', 'sm-g870f (galaxy s5 active)', 'liberto 820', 'sm-g350 (galaxy core plus)', 'e2303 (xperia m4 aqua)', 'quectel_other', '3720 classic'), num_oov_buckets=0, vocab_size=77, default_value=-1), combiner='sum', dtype=tf.string), _SparseColumnKeys(column_name='MPP_DEVICE_MODELNAME', is_integerized=False, bucket_size=None, lookup_config=_SparseIdLookupConfig(vocabulary_file=None, keys=('iphone 6 (a1586)', 'sm-g925f( galaxy s6 edge)', 'iphone 6 plus', 'unknown', 'sony_other', 'd5503 (xperia z1 compact)', 'iphone se (a1723)', 'honor 7', 'iphone 6s', 'iphone 5', 'iphone 5s', 'iphone 5c', 'd6503 (xperia z2)', 'sm-g850f (galaxy alpha)', 'nokia_other', 'c6903 (xperia z1)', 'sm-g900f (galaxy s5)', 'iphone 4s', 'gt-i9295 (galaxy s4 active)', 'd6603 (xperia z3)', 'd5803 (xperia z3 compact)', 'samsung_other', 'sm-n9005 (galaxy note 3 lte)', 'lg_other', 'sm-a310f (galaxy a3 2016)', 'sm-g920f ( galaxy s6)', 'one (m7)', 'lumia 640', 'sm-g935f (galaxy s7 edge)', 'e5823 (xperia z5 compact)', 'iphone 4', 'honor 6 (h60-l04)', 'sm-g388f (galaxy xcover 3)', 'lumia 925', 'sm-n910f (galaxy note 4)', 'gt-i9505 (galaxy s4 lte)', 'sm-g357fz (galaxy ace 4)', 'gt-s7580 (galaxy trend plus)', 'sm-g930f (galaxy s7)', 'gt-i9300 (galaxy s iii)', 'gt-i9100 (galaxy s ii)', 'htc_other', 'gt-i9305 (galaxy s iii lte)', 'sm-g901f (galaxy s5 lte-a)', 'iphone 6s plus', 'sm-g903f (galaxy s5 neo)', 'huawei_other', 'sm-a300fu (galaxy a3)', 'compal_other', 'sm-j500fn (galaxy j5)', 'gt-i9195 (galaxy s4 mini)', 'lt25i (xperia v)', 'zte_other', 'apple_other', 'sm-a500fu (galaxy a5)', 'e6553 (xperia z3+)', 'microsoft mobile oy_other', 'sonyericsson_other', 'one (m8)', 'p8', 'd855 (g3)', 'p8 lite', 'ascend p7', 'p8 (gra-l09)', 'caterpillar_other', 'sm-j100h (galaxy j1)', 'sm-g800f (galaxy s5 mini)', 'doro_other', 'c6603 (xperia z)', 'gt-i8190n (gs iii mini nfc)', 'sm-g870f (galaxy s5 active)', 'liberto 820', 'e2303 (xperia m4 aqua)', 'sm-a510f (galaxy a5 2016)', 'other_other', 'gt-s7710 ( xcover ii )', 'motorola_other', 'sm-g350 (galaxy core plus)'), num_oov_buckets=0, vocab_size=78, default_value=-1), combiner='sum', dtype=tf.string), _CrossedColumn(columns=(_SparseColumnKeys(column_name='MPP_DEVICE_MODELNAME', is_integerized=False, bucket_size=None, lookup_config=_SparseIdLookupConfig(vocabulary_file=None, keys=('iphone 6 (a1586)', 'sm-g925f( galaxy s6 edge)', 'iphone 6 plus', 'unknown', 'sony_other', 'd5503 (xperia z1 compact)', 'iphone se (a1723)', 'honor 7', 'iphone 6s', 'iphone 5', 'iphone 5s', 'iphone 5c', 'd6503 (xperia z2)', 'sm-g850f (galaxy alpha)', 'nokia_other', 'c6903 (xperia z1)', 'sm-g900f (galaxy s5)', 'iphone 4s', 'gt-i9295 (galaxy s4 active)', 'd6603 (xperia z3)', 'd5803 (xperia z3 compact)', 'samsung_other', 'sm-n9005 (galaxy note 3 lte)', 'lg_other', 'sm-a310f (galaxy a3 2016)', 'sm-g920f ( galaxy s6)', 'one (m7)', 'lumia 640', 'sm-g935f (galaxy s7 edge)', 'e5823 (xperia z5 compact)', 'iphone 4', 'honor 6 (h60-l04)', 'sm-g388f (galaxy xcover 3)', 'lumia 925', 'sm-n910f (galaxy note 4)', 'gt-i9505 (galaxy s4 lte)', 'sm-g357fz (galaxy ace 4)', 'gt-s7580 (galaxy trend plus)', 'sm-g930f (galaxy s7)', 'gt-i9300 (galaxy s iii)', 'gt-i9100 (galaxy s ii)', 'htc_other', 'gt-i9305 (galaxy s iii lte)', 'sm-g901f (galaxy s5 lte-a)', 'iphone 6s plus', 'sm-g903f (galaxy s5 neo)', 'huawei_other', 'sm-a300fu (galaxy a3)', 'compal_other', 'sm-j500fn (galaxy j5)', 'gt-i9195 (galaxy s4 mini)', 'lt25i (xperia v)', 'zte_other', 'apple_other', 'sm-a500fu (galaxy a5)', 'e6553 (xperia z3+)', 'microsoft mobile oy_other', 'sonyericsson_other', 'one (m8)', 'p8', 'd855 (g3)', 'p8 lite', 'ascend p7', 'p8 (gra-l09)', 'caterpillar_other', 'sm-j100h (galaxy j1)', 'sm-g800f (galaxy s5 mini)', 'doro_other', 'c6603 (xperia z)', 'gt-i8190n (gs iii mini nfc)', 'sm-g870f (galaxy s5 active)', 'liberto 820', 'e2303 (xperia m4 aqua)', 'sm-a510f (galaxy a5 2016)', 'other_other', 'gt-s7710 ( xcover ii )', 'motorola_other', 'sm-g350 (galaxy core plus)'), num_oov_buckets=0, vocab_size=78, default_value=-1), combiner='sum', dtype=tf.string), _SparseColumnKeys(column_name='MPP_DEVICE_OS_TYPE', is_integerized=False, bucket_size=None, lookup_config=_SparseIdLookupConfig(vocabulary_file=None, keys=('iphone os', 'android', 'unknown', 'microsoft', 'symbian', 'other', 'firefox os', 'blackberry'), num_oov_buckets=0, vocab_size=8, default_value=-1), combiner='sum', dtype=tf.string)), hash_bucket_size=10000, hash_key=None, combiner='sum', ckpt_to_load_from=None, tensor_name_in_ckpt=None), _CrossedColumn(columns=(_SparseColumnKeys(column_name='CU_MAP_SEGMENT', is_integerized=False, bucket_size=None, lookup_config=_SparseIdLookupConfig(vocabulary_file=None, keys=('1', '0', '4', '6', '5', '3', '2'), num_oov_buckets=0, vocab_size=7, default_value=-1), combiner='sum', dtype=tf.string), _SparseColumnKeys(column_name='MPP_DEVICE_PRODUCERNAME', is_integerized=False, bucket_size=None, lookup_config=_SparseIdLookupConfig(vocabulary_file=None, keys=('apple', 'samsung', 'unknown', 'sony', 'huawei', 'nokia', 'lg', 'htc', 'microsoft mobile oy', 'compal', 'zte', 'sonyericsson', 'caterpillar', 'doro', 'other', 'motorola'), num_oov_buckets=0, vocab_size=16, default_value=-1), combiner='sum', dtype=tf.string)), hash_bucket_size=10000, hash_key=None, combiner='sum', ckpt_to_load_from=None, tensor_name_in_ckpt=None), _CrossedColumn(columns=(_CrossedColumn(columns=(_SparseColumnKeys(column_name='CU_MAP_SEGMENT', is_integerized=False, bucket_size=None, lookup_config=_SparseIdLookupConfig(vocabulary_file=None, keys=('1', '0', '4', '6', '5', '3', '2'), num_oov_buckets=0, vocab_size=7, default_value=-1), combiner='sum', dtype=tf.string), _SparseColumnKeys(column_name='MPP_DEVICE_PRODUCERNAME', is_integerized=False, bucket_size=None, lookup_config=_SparseIdLookupConfig(vocabulary_file=None, keys=('apple', 'samsung', 'unknown', 'sony', 'huawei', 'nokia', 'lg', 'htc', 'microsoft mobile oy', 'compal', 'zte', 'sonyericsson', 'caterpillar', 'doro', 'other', 'motorola'), num_oov_buckets=0, vocab_size=16, default_value=-1), combiner='sum', dtype=tf.string)), hash_bucket_size=10000, hash_key=None, combiner='sum', ckpt_to_load_from=None, tensor_name_in_ckpt=None), _SparseColumnKeys(column_name='MPP_DEVICE_MODELNAME', is_integerized=False, bucket_size=None, lookup_config=_SparseIdLookupConfig(vocabulary_file=None, keys=('iphone 6 (a1586)', 'sm-g925f( galaxy s6 edge)', 'iphone 6 plus', 'unknown', 'sony_other', 'd5503 (xperia z1 compact)', 'iphone se (a1723)', 'honor 7', 'iphone 6s', 'iphone 5', 'iphone 5s', 'iphone 5c', 'd6503 (xperia z2)', 'sm-g850f (galaxy alpha)', 'nokia_other', 'c6903 (xperia z1)', 'sm-g900f (galaxy s5)', 'iphone 4s', 'gt-i9295 (galaxy s4 active)', 'd6603 (xperia z3)', 'd5803 (xperia z3 compact)', 'samsung_other', 'sm-n9005 (galaxy note 3 lte)', 'lg_other', 'sm-a310f (galaxy a3 2016)', 'sm-g920f ( galaxy s6)', 'one (m7)', 'lumia 640', 'sm-g935f (galaxy s7 edge)', 'e5823 (xperia z5 compact)', 'iphone 4', 'honor 6 (h60-l04)', 'sm-g388f (galaxy xcover 3)', 'lumia 925', 'sm-n910f (galaxy note 4)', 'gt-i9505 (galaxy s4 lte)', 'sm-g357fz (galaxy ace 4)', 'gt-s7580 (galaxy trend plus)', 'sm-g930f (galaxy s7)', 'gt-i9300 (galaxy s iii)', 'gt-i9100 (galaxy s ii)', 'htc_other', 'gt-i9305 (galaxy s iii lte)', 'sm-g901f (galaxy s5 lte-a)', 'iphone 6s plus', 'sm-g903f (galaxy s5 neo)', 'huawei_other', 'sm-a300fu (galaxy a3)', 'compal_other', 'sm-j500fn (galaxy j5)', 'gt-i9195 (galaxy s4 mini)', 'lt25i (xperia v)', 'zte_other', 'apple_other', 'sm-a500fu (galaxy a5)', 'e6553 (xperia z3+)', 'microsoft mobile oy_other', 'sonyericsson_other', 'one (m8)', 'p8', 'd855 (g3)', 'p8 lite', 'ascend p7', 'p8 (gra-l09)', 'caterpillar_other', 'sm-j100h (galaxy j1)', 'sm-g800f (galaxy s5 mini)', 'doro_other', 'c6603 (xperia z)', 'gt-i8190n (gs iii mini nfc)', 'sm-g870f (galaxy s5 active)', 'liberto 820', 'e2303 (xperia m4 aqua)', 'sm-a510f (galaxy a5 2016)', 'other_other', 'gt-s7710 ( xcover ii )', 'motorola_other', 'sm-g350 (galaxy core plus)'), num_oov_buckets=0, vocab_size=78, default_value=-1), combiner='sum', dtype=tf.string)), hash_bucket_size=10000, hash_key=None, combiner='sum', ckpt_to_load_from=None, tensor_name_in_ckpt=None), _CrossedColumn(columns=(_SparseColumnKeys(column_name='CU_U_MAIN_DEV_PRODUCERNAME', is_integerized=False, bucket_size=None, lookup_config=_SparseIdLookupConfig(vocabulary_file=None, keys=('apple', 'unknown', 'other', 'sony', 'huawei', 'samsung', 'nokia', 'lg', 'htc', 'microsoft mobile oy', 'motorola', 'compal', 'doro', 'caterpillar', 'sonyericsson', 'zte', 'quectel'), num_oov_buckets=0, vocab_size=17, default_value=-1), combiner='sum', dtype=tf.string), _SparseColumnKeys(column_name='MPP_DEVICE_PRODUCERNAME', is_integerized=False, bucket_size=None, lookup_config=_SparseIdLookupConfig(vocabulary_file=None, keys=('apple', 'samsung', 'unknown', 'sony', 'huawei', 'nokia', 'lg', 'htc', 'microsoft mobile oy', 'compal', 'zte', 'sonyericsson', 'caterpillar', 'doro', 'other', 'motorola'), num_oov_buckets=0, vocab_size=16, default_value=-1), combiner='sum', dtype=tf.string)), hash_bucket_size=10000, hash_key=None, combiner='sum', ckpt_to_load_from=None, tensor_name_in_ckpt=None), _CrossedColumn(columns=(_SparseColumnKeys(column_name='CU_U_MAIN_DEV_OS_TYPE', is_integerized=False, bucket_size=None, lookup_config=_SparseIdLookupConfig(vocabulary_file=None, keys=('iphone os', 'unknown', 'proprietary os', 'android', 'microsoft windows phone', 'linux maemo', 'firefox os', 'asha', 'symbian 9.2', 'symbian 9.4', 'symbian 9.3', 'symbian ^3', 'bada', 'microsoft mobile 6', 'microsoft mobile 6.5', 'blackberry os', 'symbian anna', 'symbian belle', 'symbian 9.1', 'symbian 9.1 release 3.0', 'blackberry os 10', 'microsoft mobile 6.1', 'symbian 8.1a', 'symbian 7.0', 'symbian 8.0a'), num_oov_buckets=0, vocab_size=25, default_value=-1), combiner='sum', dtype=tf.string), _SparseColumnKeys(column_name='MPP_DEVICE_OS_TYPE', is_integerized=False, bucket_size=None, lookup_config=_SparseIdLookupConfig(vocabulary_file=None, keys=('iphone os', 'android', 'unknown', 'microsoft', 'symbian', 'other', 'firefox os', 'blackberry'), num_oov_buckets=0, vocab_size=8, default_value=-1), combiner='sum', dtype=tf.string)), hash_bucket_size=10000, hash_key=None, combiner='sum', ckpt_to_load_from=None, tensor_name_in_ckpt=None)), 'linear_optimizer': None, 'joint_linear_weights': False, 'dnn_feature_columns': (_EmbeddingColumn(sparse_id_column=_SparseColumnKeys(column_name='CU_MAP_SEGMENT', is_integerized=False, bucket_size=None, lookup_config=_SparseIdLookupConfig(vocabulary_file=None, keys=('1', '0', '4', '6', '5', '3', '2'), num_oov_buckets=0, vocab_size=7, default_value=-1), combiner='sum', dtype=tf.string), dimension=2.0, combiner='mean', initializer=<tensorflow.python.ops.init_ops.TruncatedNormal object at 0x117489dd8>, ckpt_to_load_from=None, tensor_name_in_ckpt=None, shared_embedding_name=None, shared_vocab_size=None, max_norm=None, trainable=True), _EmbeddingColumn(sparse_id_column=_SparseColumnKeys(column_name='CLM_LIVSFASE_SEGMENT', is_integerized=False, bucket_size=None, lookup_config=_SparseIdLookupConfig(vocabulary_file=None, keys=('godt voksen', 'småbarnsfamilie', 'senior', 'etablert barnefamilie', 'ung voksen', 'voksen uten barn', 'ungdom'), num_oov_buckets=0, vocab_size=7, default_value=-1), combiner='sum', dtype=tf.string), dimension=2.0, combiner='mean', initializer=<tensorflow.python.ops.init_ops.TruncatedNormal object at 0x117489da0>, ckpt_to_load_from=None, tensor_name_in_ckpt=None, shared_embedding_name=None, shared_vocab_size=None, max_norm=None, trainable=True), _EmbeddingColumn(sparse_id_column=_SparseColumnKeys(column_name='CU_U_MAIN_DEV_OS_TYPE', is_integerized=False, bucket_size=None, lookup_config=_SparseIdLookupConfig(vocabulary_file=None, keys=('iphone os', 'unknown', 'proprietary os', 'android', 'microsoft windows phone', 'linux maemo', 'firefox os', 'asha', 'symbian 9.2', 'symbian 9.4', 'symbian 9.3', 'symbian ^3', 'bada', 'microsoft mobile 6', 'microsoft mobile 6.5', 'blackberry os', 'symbian anna', 'symbian belle', 'symbian 9.1', 'symbian 9.1 release 3.0', 'blackberry os 10', 'microsoft mobile 6.1', 'symbian 8.1a', 'symbian 7.0', 'symbian 8.0a'), num_oov_buckets=0, vocab_size=25, default_value=-1), combiner='sum', dtype=tf.string), dimension=4.0, combiner='mean', initializer=<tensorflow.python.ops.init_ops.TruncatedNormal object at 0x117489ba8>, ckpt_to_load_from=None, tensor_name_in_ckpt=None, shared_embedding_name=None, shared_vocab_size=None, max_norm=None, trainable=True), _EmbeddingColumn(sparse_id_column=_SparseColumnKeys(column_name='CU_U_MAIN_DEV_PRODUCERNAME', is_integerized=False, bucket_size=None, lookup_config=_SparseIdLookupConfig(vocabulary_file=None, keys=('apple', 'unknown', 'other', 'sony', 'huawei', 'samsung', 'nokia', 'lg', 'htc', 'microsoft mobile oy', 'motorola', 'compal', 'doro', 'caterpillar', 'sonyericsson', 'zte', 'quectel'), num_oov_buckets=0, vocab_size=17, default_value=-1), combiner='sum', dtype=tf.string), dimension=4.0, combiner='mean', initializer=<tensorflow.python.ops.init_ops.TruncatedNormal object at 0x117489e10>, ckpt_to_load_from=None, tensor_name_in_ckpt=None, shared_embedding_name=None, shared_vocab_size=None, max_norm=None, trainable=True), _EmbeddingColumn(sparse_id_column=_SparseColumnKeys(column_name='MPP_DEVICE_OS_TYPE', is_integerized=False, bucket_size=None, lookup_config=_SparseIdLookupConfig(vocabulary_file=None, keys=('iphone os', 'android', 'unknown', 'microsoft', 'symbian', 'other', 'firefox os', 'blackberry'), num_oov_buckets=0, vocab_size=8, default_value=-1), combiner='sum', dtype=tf.string), dimension=3.0, combiner='mean', initializer=<tensorflow.python.ops.init_ops.TruncatedNormal object at 0x117489d30>, ckpt_to_load_from=None, tensor_name_in_ckpt=None, shared_embedding_name=None, shared_vocab_size=None, max_norm=None, trainable=True), _EmbeddingColumn(sparse_id_column=_SparseColumnKeys(column_name='MPP_DEVICE_PRODUCERNAME', is_integerized=False, bucket_size=None, lookup_config=_SparseIdLookupConfig(vocabulary_file=None, keys=('apple', 'samsung', 'unknown', 'sony', 'huawei', 'nokia', 'lg', 'htc', 'microsoft mobile oy', 'compal', 'zte', 'sonyericsson', 'caterpillar', 'doro', 'other', 'motorola'), num_oov_buckets=0, vocab_size=16, default_value=-1), combiner='sum', dtype=tf.string), dimension=4.0, combiner='mean', initializer=<tensorflow.python.ops.init_ops.TruncatedNormal object at 0x117489e48>, ckpt_to_load_from=None, tensor_name_in_ckpt=None, shared_embedding_name=None, shared_vocab_size=None, max_norm=None, trainable=True), _EmbeddingColumn(sparse_id_column=_SparseColumnKeys(column_name='CU_U_MAIN_DEV_MODELNAME', is_integerized=False, bucket_size=None, lookup_config=_SparseIdLookupConfig(vocabulary_file=None, keys=('iphone 6s plus', 'unknown', 'iphone 6 plus', 'other', 'sony_other', 'iphone 6 (a1586)', 'honor 7', 'iphone 6s', 'iphone 5', 'iphone 5s', 'iphone 5c', 'd6503 (xperia z2)', 'sm-g850f (galaxy alpha)', 'nokia_other', 'c6903 (xperia z1)', 'iphone 4s', 'gt-i9295 (galaxy s4 active)', 'd6603 (xperia z3)', 'gt-i9505 (galaxy s4 lte)', 'sm-g900f (galaxy s5)', 'd5803 (xperia z3 compact)', 'sm-g928f (galaxy s6 edge+)', 'sm-n9005 (galaxy note 3 lte)', 'lg_other', 'sm-g925f( galaxy s6 edge)', 'sm-a310f (galaxy a3 2016)', 'sm-g920f ( galaxy s6)', 'one (m7)', 'lumia 640', 'sm-g935f (galaxy s7 edge)', 'samsung_other', 'e5823 (xperia z5 compact)', 'iphone 4', 'honor 6 (h60-l04)', 'sm-g388f (galaxy xcover 3)', 'iphone se (a1723)', 'lumia 925', 'sm-n910f (galaxy note 4)', 'sm-g357fz (galaxy ace 4)', 'gt-s7580 (galaxy trend plus)', 'gt-i9300 (galaxy s iii)', 'gt-i9100 (galaxy s ii)', 'htc_other', 'd5503 (xperia z1 compact)', 'gt-i9305 (galaxy s iii lte)', 'sm-g930f (galaxy s7)', 'sm-g901f (galaxy s5 lte-a)', 'motorola_other', 'sm-g903f (galaxy s5 neo)', 'huawei_other', 'sm-j100h (galaxy j1)', 'compal_other', 'doro_other', 'caterpillar_other', 'sonyericsson_other', 'gt-i9195 (galaxy s4 mini)', 'sm-a300fu (galaxy a3)', 'lt25i (xperia v)', 'zte_other', 'ascend p7', 'apple_other', 'e6553 (xperia z3+)', 'one (m8)', 'c6603 (xperia z)', 'p8', 'p8 lite', 'sm-j500fn (galaxy j5)', 'microsoft mobile oy_other', 'p8 (gra-l09)', 'gt-s7710 ( xcover ii )', 'gt-i8190n (gs iii mini nfc)', 'sm-g870f (galaxy s5 active)', 'liberto 820', 'sm-g350 (galaxy core plus)', 'e2303 (xperia m4 aqua)', 'quectel_other', '3720 classic'), num_oov_buckets=0, vocab_size=77, default_value=-1), combiner='sum', dtype=tf.string), dimension=6.0, combiner='mean', initializer=<tensorflow.python.ops.init_ops.TruncatedNormal object at 0x117489e80>, ckpt_to_load_from=None, tensor_name_in_ckpt=None, shared_embedding_name=None, shared_vocab_size=None, max_norm=None, trainable=True), _EmbeddingColumn(sparse_id_column=_SparseColumnKeys(column_name='MPP_DEVICE_MODELNAME', is_integerized=False, bucket_size=None, lookup_config=_SparseIdLookupConfig(vocabulary_file=None, keys=('iphone 6 (a1586)', 'sm-g925f( galaxy s6 edge)', 'iphone 6 plus', 'unknown', 'sony_other', 'd5503 (xperia z1 compact)', 'iphone se (a1723)', 'honor 7', 'iphone 6s', 'iphone 5', 'iphone 5s', 'iphone 5c', 'd6503 (xperia z2)', 'sm-g850f (galaxy alpha)', 'nokia_other', 'c6903 (xperia z1)', 'sm-g900f (galaxy s5)', 'iphone 4s', 'gt-i9295 (galaxy s4 active)', 'd6603 (xperia z3)', 'd5803 (xperia z3 compact)', 'samsung_other', 'sm-n9005 (galaxy note 3 lte)', 'lg_other', 'sm-a310f (galaxy a3 2016)', 'sm-g920f ( galaxy s6)', 'one (m7)', 'lumia 640', 'sm-g935f (galaxy s7 edge)', 'e5823 (xperia z5 compact)', 'iphone 4', 'honor 6 (h60-l04)', 'sm-g388f (galaxy xcover 3)', 'lumia 925', 'sm-n910f (galaxy note 4)', 'gt-i9505 (galaxy s4 lte)', 'sm-g357fz (galaxy ace 4)', 'gt-s7580 (galaxy trend plus)', 'sm-g930f (galaxy s7)', 'gt-i9300 (galaxy s iii)', 'gt-i9100 (galaxy s ii)', 'htc_other', 'gt-i9305 (galaxy s iii lte)', 'sm-g901f (galaxy s5 lte-a)', 'iphone 6s plus', 'sm-g903f (galaxy s5 neo)', 'huawei_other', 'sm-a300fu (galaxy a3)', 'compal_other', 'sm-j500fn (galaxy j5)', 'gt-i9195 (galaxy s4 mini)', 'lt25i (xperia v)', 'zte_other', 'apple_other', 'sm-a500fu (galaxy a5)', 'e6553 (xperia z3+)', 'microsoft mobile oy_other', 'sonyericsson_other', 'one (m8)', 'p8', 'd855 (g3)', 'p8 lite', 'ascend p7', 'p8 (gra-l09)', 'caterpillar_other', 'sm-j100h (galaxy j1)', 'sm-g800f (galaxy s5 mini)', 'doro_other', 'c6603 (xperia z)', 'gt-i8190n (gs iii mini nfc)', 'sm-g870f (galaxy s5 active)', 'liberto 820', 'e2303 (xperia m4 aqua)', 'sm-a510f (galaxy a5 2016)', 'other_other', 'gt-s7710 ( xcover ii )', 'motorola_other', 'sm-g350 (galaxy core plus)'), num_oov_buckets=0, vocab_size=78, default_value=-1), combiner='sum', dtype=tf.string), dimension=6.0, combiner='mean', initializer=<tensorflow.python.ops.init_ops.TruncatedNormal object at 0x117489eb8>, ckpt_to_load_from=None, tensor_name_in_ckpt=None, shared_embedding_name=None, shared_vocab_size=None, max_norm=None, trainable=True), _RealValuedColumn(column_name='CU_AGE', dimension=1, default_value=None, dtype=tf.float32, normalizer=None), _RealValuedColumn(column_name='CU_U_NET_REV_AVG_3MO', dimension=1, default_value=None, dtype=tf.float32, normalizer=None), _RealValuedColumn(column_name='CU_U_MB_AVG_3MO', dimension=1, default_value=None, dtype=tf.float32, normalizer=None), _RealValuedColumn(column_name='MPP_MB_AVG_3MO', dimension=1, default_value=None, dtype=tf.float32, normalizer=None), _RealValuedColumn(column_name='MPP_NO_VOICE_DOM_LAST2', dimension=1, default_value=None, dtype=tf.float32, normalizer=None), _RealValuedColumn(column_name='MPP_GROSS_PERIODIC_FEE_FULL', dimension=1, default_value=None, dtype=tf.float32, normalizer=None), _RealValuedColumn(column_name='MPP_NET_REVENUE', dimension=1, default_value=None, dtype=tf.float32, normalizer=None)), 'dnn_optimizer': None, 'dnn_hidden_units': [128, 128, 128], 'dnn_activation_fn': <function relu at 0x110509620>, 'dnn_dropout': None, 'gradient_clip_norm': None, 'embedding_lr_multipliers': None, 'input_layer_min_slice_size': None, 'fix_global_step_increment_bug': True})"
      ]
     },
     "execution_count": 12,
     "metadata": {},
     "output_type": "execute_result"
    }
   ],
   "source": [
    "# def train_and_eval(model_dir, model_type, train_steps, train_data, test_data):\n",
    "model_dir = \"wide&deep_model\"\n",
    "model_type = \"wide_n_deep\"\n",
    "train_steps = 10\n",
    "\n",
    "\"\"\"Train and evaluate the model.\"\"\"\n",
    "\n",
    "df_train = pd.concat([data_train['num'], data_train['cat'], data_train['labels']], axis=1)\n",
    "df_test = pd.concat([data_test['num'], data_test['cat'], data_test['labels']], axis=1)\n",
    "\n",
    "#     # remove NaN elements\n",
    "#     df_train = df_train.dropna(how='any', axis=0)\n",
    "#     df_test = df_test.dropna(how='any', axis=0)\n",
    "\n",
    "model_dir = tempfile.mkdtemp() if not model_dir else model_dir\n",
    "print(\"model directory = %s\" % model_dir)\n",
    "\n",
    "tf.logging.set_verbosity(tf.logging.ERROR)\n",
    "\n",
    "m = build_estimator(model_dir, model_type)\n",
    "m.fit(input_fn=lambda: input_fn(df_train), steps=train_steps)"
   ]
  },
  {
   "cell_type": "code",
   "execution_count": 13,
   "metadata": {},
   "outputs": [
    {
     "name": "stdout",
     "output_type": "stream",
     "text": [
      "accuracy: 0.99502\n",
      "accuracy/baseline_label_mean: 0.00498033\n",
      "accuracy/threshold_0.500000_mean: 0.99502\n",
      "auc: 0.351565\n",
      "global_step: 30\n",
      "labels/actual_label_mean: 0.00498033\n",
      "labels/prediction_mean: 0.0240634\n",
      "loss: 0.045544\n",
      "precision/positive_threshold_0.500000_mean: 0.0\n",
      "recall/positive_threshold_0.500000_mean: 0.0\n"
     ]
    }
   ],
   "source": [
    "# predictions for test data\n",
    "results = m.evaluate(input_fn=lambda: input_fn(df_test), steps=1)\n",
    "for key in sorted(results):\n",
    "    print(\"%s: %s\" % (key, results[key]))"
   ]
  }
 ],
 "metadata": {
  "kernelspec": {
   "display_name": "Python3 (handset-model)",
   "language": "python",
   "name": "handset-model"
  },
  "language_info": {
   "codemirror_mode": {
    "name": "ipython",
    "version": 3
   },
   "file_extension": ".py",
   "mimetype": "text/x-python",
   "name": "python",
   "nbconvert_exporter": "python",
   "pygments_lexer": "ipython3",
   "version": "3.6.1"
  }
 },
 "nbformat": 4,
 "nbformat_minor": 2
}
