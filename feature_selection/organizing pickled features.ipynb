{
 "cells": [
  {
   "cell_type": "code",
   "execution_count": 2,
   "metadata": {
    "collapsed": true
   },
   "outputs": [],
   "source": [
    "import pickle"
   ]
  },
  {
   "cell_type": "code",
   "execution_count": 5,
   "metadata": {},
   "outputs": [],
   "source": [
    "files = ['corrDict.pickle', 'fArray.pickle', 'meanDict.pickle', 'medDict.pickle', 'varDict.pickle']\n",
    "\n",
    "allDict = dict()\n",
    "for f in files:\n",
    "    name = f.split('.')[0]\n",
    "    with open(f, 'rb') as o:\n",
    "        allDict[name] = pickle.load(o)"
   ]
  },
  {
   "cell_type": "code",
   "execution_count": 15,
   "metadata": {},
   "outputs": [
    {
     "data": {
      "text/plain": [
       "{'CLM_LIVSFASE_SEGMENT_ung voksen',\n",
       " 'CU_AGE',\n",
       " 'CU_MAP_SEGMENT_6',\n",
       " 'CU_U_MAIN_DEV_OS_TYPE_iphone os',\n",
       " 'CU_U_MAIN_DEV_PRODUCERNAME_apple',\n",
       " 'CU_U_MB_AVG_3MO',\n",
       " 'MPP_DEVICE_OS_TYPE_iphone os',\n",
       " 'MPP_DEVICE_PRODUCERNAME_apple',\n",
       " 'MPP_GROSS_PERIODIC_FEE_FULL',\n",
       " 'MPP_MB_AVG_3MO',\n",
       " 'MPP_MB_SUM_3MO'}"
      ]
     },
     "execution_count": 15,
     "metadata": {},
     "output_type": "execute_result"
    }
   ],
   "source": [
    "set(allDict['corrDict'].keys())"
   ]
  },
  {
   "cell_type": "code",
   "execution_count": 16,
   "metadata": {},
   "outputs": [],
   "source": [
    "uniqueFeatures = set()\n",
    "for k in allDict.keys():\n",
    "    if k.endswith('Array'):\n",
    "        uniqueFeatures = uniqueFeatures | set(allDict[k])\n",
    "    else:\n",
    "        uniqueFeatures = uniqueFeatures | set((allDict[k].keys()))"
   ]
  },
  {
   "cell_type": "code",
   "execution_count": 21,
   "metadata": {},
   "outputs": [],
   "source": [
    "l = list(uniqueFeatures)\n",
    "l.sort()"
   ]
  },
  {
   "cell_type": "code",
   "execution_count": 22,
   "metadata": {},
   "outputs": [
    {
     "data": {
      "text/plain": [
       "['CLM_LIVSFASE_SEGMENT_ung voksen',\n",
       " 'CU_ADSL_OK_RESULT_verify',\n",
       " 'CU_AGE',\n",
       " 'CU_FIX_NO_VOICE_INT_LAST2',\n",
       " 'CU_FIX_NO_VOICE_INT_LAST3',\n",
       " 'CU_GENDER_k',\n",
       " 'CU_GENDER_m',\n",
       " 'CU_MAP_SEGMENT_6',\n",
       " 'CU_MPR_NO_MMS_DOM_LAST1',\n",
       " 'CU_MPR_NO_SMS_INT_LAST1',\n",
       " 'CU_U_MAIN_DEV_CATEGORY_smartphone lte',\n",
       " 'CU_U_MAIN_DEV_MODEL_ID',\n",
       " 'CU_U_MAIN_DEV_OS_TYPE_android',\n",
       " 'CU_U_MAIN_DEV_OS_TYPE_iphone os',\n",
       " 'CU_U_MAIN_DEV_PRODUCERNAME_apple',\n",
       " 'CU_U_MB_AVG_3MO',\n",
       " 'CU_U_NET_REV_AVG_3MO',\n",
       " 'HH_ANT_VOKSEN',\n",
       " 'MPP_BANKID_USED_LAST1',\n",
       " 'MPP_BANKID_USED_LAST2',\n",
       " 'MPP_BANKID_USED_LAST3',\n",
       " 'MPP_BINDING_TYPE_binding terminal',\n",
       " 'MPP_DEVICE_CATEGORY_smartphone lte',\n",
       " 'MPP_DEVICE_OS_TYPE_android',\n",
       " 'MPP_DEVICE_OS_TYPE_iphone os',\n",
       " 'MPP_DEVICE_PRODUCERNAME_apple',\n",
       " 'MPP_GROSS_PERIODIC_FEE_FULL',\n",
       " 'MPP_KR_SMS_INT_LAST3',\n",
       " 'MPP_MB_AVG_3MO',\n",
       " 'MPP_MB_LAST1',\n",
       " 'MPP_MB_LAST2',\n",
       " 'MPP_MB_LAST3',\n",
       " 'MPP_MB_SUM_3MO',\n",
       " 'MPP_NET_OTHER_FEE',\n",
       " 'MPP_NET_REVENUE',\n",
       " 'MPP_NO_VOICE_DOM_LAST2',\n",
       " 'MPP_NO_VOICE_DOM_LAST3',\n",
       " 'MPP_NO_VOICE_INT_LAST1',\n",
       " 'MPP_NO_VOICE_INT_LAST2',\n",
       " 'MPP_NO_VOICE_INT_LAST3']"
      ]
     },
     "execution_count": 22,
     "metadata": {},
     "output_type": "execute_result"
    }
   ],
   "source": [
    "l"
   ]
  }
 ],
 "metadata": {
  "kernelspec": {
   "display_name": "Python3 (handset-model)",
   "language": "python",
   "name": "handset-model"
  },
  "language_info": {
   "codemirror_mode": {
    "name": "ipython",
    "version": 3
   },
   "file_extension": ".py",
   "mimetype": "text/x-python",
   "name": "python",
   "nbconvert_exporter": "python",
   "pygments_lexer": "ipython3",
   "version": "3.6.1"
  }
 },
 "nbformat": 4,
 "nbformat_minor": 2
}
