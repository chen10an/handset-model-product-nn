{
 "cells": [
  {
   "cell_type": "code",
   "execution_count": 1,
   "metadata": {},
   "outputs": [
    {
     "name": "stderr",
     "output_type": "stream",
     "text": [
      "Using TensorFlow backend.\n"
     ]
    }
   ],
   "source": [
    "import pandas as pd\n",
    "import numpy as np\n",
    "\n",
    "# file\n",
    "import handset_model_current as handset_model"
   ]
  },
  {
   "cell_type": "code",
   "execution_count": 2,
   "metadata": {
    "collapsed": true
   },
   "outputs": [],
   "source": [
    "df = handset_model.load_data()  # set ALL=True in file"
   ]
  },
  {
   "cell_type": "code",
   "execution_count": 3,
   "metadata": {},
   "outputs": [
    {
     "data": {
      "text/plain": [
       "((583291,), (583291, 344))"
      ]
     },
     "execution_count": 3,
     "metadata": {},
     "output_type": "execute_result"
    }
   ],
   "source": [
    "y = df[\"TARGET_S_TO_S_APPLE\"]\n",
    "df = df.drop(['Unnamed: 0', 'ID', 'MPP_NET_DISCOUNT_OTHER_FEE', \"TARGET_S_TO_S_APPLE\"], axis=1)\n",
    "\n",
    "y.shape, df.shape"
   ]
  },
  {
   "cell_type": "code",
   "execution_count": 4,
   "metadata": {
    "collapsed": true
   },
   "outputs": [],
   "source": [
    "# all cat cols\n",
    "CATEGORICAL_COLS = [\"CU_GENDER\", \"CU_EMAIL_IND\", \"CU_SMS_IND\",\n",
    "                         \"CU_MAP_SEGMENT\", \"CLM_LIVSFASE_SEGMENT\", \"CU_FYLKE\",\n",
    "                         \"CU_HOUSE_TYPE\", \"HH_MOB_COVERAGE_IN\", \"HH_MOB_COVERAGE_OUT\",\n",
    "                         \"CU_ADSL_OK_RESULT\", \"CU_VDSL_OK_RESULT\", \"CU_LINE_STATUS\",\n",
    "                         \"CU_U_MAIN_BRAND\", \"CU_U_MAIN_SUBS_TYPE\", \"CU_U_MAIN_DEV_MODELNAME\",\n",
    "                         \"CU_U_MAIN_DEV_OS_TYPE\", \"CU_U_MAIN_DEV_PRODUCERNAME\", \"CU_U_MAIN_DEV_CATEGORY\",\n",
    "                         \"CU_U_MAIN_DEV_TYPE\", \"CU_U_MAIN_DEV_HD_VOICE\",\n",
    "                         \"CU_U_MAIN_DEV_TOUCH_SCREEN\", \"CU_U_MAIN_DEV_LTE\", \"MPP_BRAND\",\n",
    "                         \"MPP_SUBS_START_REASON\", \"MPP_CHANGETYPE\", \"MPP_PRODUCT_NAME\",\n",
    "                         \"MPP_CHURN_SEGMENT_ADJ\", \"MPP_DEVICE_MODELNAME\", \"MPP_DEVICE_OS_TYPE\",\n",
    "                         \"MPP_DEVICE_PRODUCERNAME\", \"MPP_DEVICE_CATEGORY\", \"MPP_DEVICE_TYPE\",\n",
    "                         \"MPP_DEVICE_HD_VOICE\", \"MPP_DEVICE_TOUCH_SCREEN\", \"MPP_DEVICE_LTE\",\n",
    "                         \"MPP_BINDING_PRODUCT_DESC\", \"MPP_BINDING_TYPE\", \"MPP_DEALER_NAME\",\n",
    "                         \"MPP_SALES_CH\", \"MPP_DEALER_CHAIN\", \"MPP_IN_PORT_SP_NAME\"]"
   ]
  },
  {
   "cell_type": "code",
   "execution_count": 5,
   "metadata": {},
   "outputs": [],
   "source": [
    "for var in CATEGORICAL_COLS:\n",
    "    df.loc[df.loc[:,var].isnull(), var] = \"UNKNOWN\""
   ]
  },
  {
   "cell_type": "code",
   "execution_count": 6,
   "metadata": {
    "collapsed": true
   },
   "outputs": [],
   "source": [
    "# TODO: reduce dimension of mpp device modelname and mpp dealer name\n",
    "\n",
    "df.loc[df.MPP_DEVICE_OS_TYPE.str.contains(\"MICROSOFT\"),\"MPP_DEVICE_OS_TYPE\"] = \"MICROSOFT\"\n",
    "df.loc[df.MPP_DEVICE_OS_TYPE.str.contains(\"SYMBIAN\"),\"MPP_DEVICE_OS_TYPE\"] = \"SYMBIAN\"\n",
    "df.loc[df.MPP_DEVICE_OS_TYPE.str.contains(\"BLACKBERRY\"),\"MPP_DEVICE_OS_TYPE\"] = \"BLACKBERRY\"\n",
    "df.loc[df.MPP_DEVICE_OS_TYPE.isin(['LINUX MAEMO', 'ASHA', 'PROPRIETARY OS', 'BADA']),\"MPP_DEVICE_OS_TYPE\"] = \"OTHER\"\n",
    "df.loc[:, \"COUNT\"] = df.groupby([\"CU_U_MAIN_DEV_PRODUCERNAME\"]).CU_U_MAIN_DEV_PRODUCERNAME.transform('count')\n",
    "df.loc[df.COUNT<200,\"CU_U_MAIN_DEV_PRODUCERNAME\"] = \"OTHER\"\n",
    "df.loc[:, \"COUNT\"] = df.groupby(\"MPP_DEVICE_PRODUCERNAME\").MPP_DEVICE_PRODUCERNAME.transform('count')\n",
    "df.loc[df.COUNT<200,\"MPP_DEVICE_PRODUCERNAME\"] = \"OTHER\"\n",
    "df.loc[df.CU_U_MAIN_DEV_PRODUCERNAME==\"OTHER\",\"CU_U_MAIN_DEV_MODELNAME\"] = \"OTHER\"\n",
    "df.loc[df.CU_U_MAIN_DEV_MODELNAME==\"IPHONE 5 (A1429)\", \"CU_U_MAIN_DEV_MODELNAME\"]=\"IPHONE 5\"\n",
    "df.loc[df.CU_U_MAIN_DEV_MODELNAME==\"IPHONE 5S (A1457)\", \"CU_U_MAIN_DEV_MODELNAME\"]=\"IPHONE 5S\"\n",
    "df.loc[df.CU_U_MAIN_DEV_MODELNAME==\"IPHONE 6S (A1688 / A1691 / A1700 / A1633)\", \"CU_U_MAIN_DEV_MODELNAME\"]=\"IPHONE 6S\"\n",
    "df.loc[df.CU_U_MAIN_DEV_MODELNAME==\"IPHONE 5C (A1532 / A1456)\", \"CU_U_MAIN_DEV_MODELNAME\"]=\"IPHONE 5C\"\n",
    "df.loc[df.CU_U_MAIN_DEV_MODELNAME==\"GT-I9506 (GALAXY S4 LTE-A)\", \"CU_U_MAIN_DEV_MODELNAME\"]=\"GT-I9505 (GALAXY S4 LTE)\"\n",
    "df.loc[df.CU_U_MAIN_DEV_MODELNAME==\"SM-G920F (SM-G920I GALAXY S6)\", \"CU_U_MAIN_DEV_MODELNAME\"]=\"SM-G920F ( GALAXY S6)\"\n",
    "df.loc[df.CU_U_MAIN_DEV_MODELNAME==\"SM-G925F (SM-G925I GALAXY S6 EDGE)\", \"CU_U_MAIN_DEV_MODELNAME\"]=\"SM-G925F( GALAXY S6 EDGE)\"\n",
    "df.loc[:, \"COUNT\"] = df.groupby([\"CU_U_MAIN_DEV_PRODUCERNAME\", \"CU_U_MAIN_DEV_MODELNAME\"]).CU_U_MAIN_DEV_MODELNAME.transform('count')\n",
    "brands = df.CU_U_MAIN_DEV_PRODUCERNAME.unique()\n",
    "for brand in brands:\n",
    "    df.loc[(df.COUNT<1000)&(df.CU_U_MAIN_DEV_PRODUCERNAME==brand), \"CU_U_MAIN_DEV_MODELNAME\"] = brand + \"_other\""
   ]
  },
  {
   "cell_type": "code",
   "execution_count": 7,
   "metadata": {},
   "outputs": [
    {
     "data": {
      "text/plain": [
       "3214"
      ]
     },
     "execution_count": 7,
     "metadata": {},
     "output_type": "execute_result"
    }
   ],
   "source": [
    "len(df.MPP_DEALER_NAME.unique())"
   ]
  },
  {
   "cell_type": "code",
   "execution_count": 8,
   "metadata": {},
   "outputs": [
    {
     "data": {
      "text/plain": [
       "0                        neras\n",
       "1                       eureka\n",
       "2    telenorbutikken fornebu s\n",
       "3      telenorbutikken cc vest\n",
       "4                        neras\n",
       "Name: MPP_DEALER_NAME, dtype: object"
      ]
     },
     "execution_count": 8,
     "metadata": {},
     "output_type": "execute_result"
    }
   ],
   "source": [
    "df.loc[:, 'MPP_DEALER_NAME'] = df.MPP_DEALER_NAME.str.lower()\n",
    "df.loc[:, 'MPP_DEALER_NAME'].head()"
   ]
  },
  {
   "cell_type": "code",
   "execution_count": 9,
   "metadata": {},
   "outputs": [
    {
     "name": "stdout",
     "output_type": "stream",
     "text": [
      "elprice haugesund\n",
      "elprice nettbutikk\n",
      "elprice sartor\n",
      "elprice sandnes\n",
      "elprice knarvik as\n",
      "elprice fana\n",
      "elprice førde\n",
      "elprice vinterbro\n",
      "elprice sandefjord\n",
      "elprice avd. ålesund\n",
      "elprice gjøvik\n",
      "elprice åsane\n",
      "elprice strømmen\n",
      "elprice fredrikstad\n",
      "elprice as porsgrunn\n",
      "elprice as lørenskog\n",
      "elprice sentrum\n",
      "elprice moss\n",
      "elprice bryne\n",
      "elprice trondheim\n",
      "elprice sørlandsparken/kristiansand\n",
      "elprice ski\n",
      "elprice sandvika\n",
      "elprice tønsberg\n",
      "elprice avd. tiller\n",
      "elprice molde\n"
     ]
    }
   ],
   "source": [
    "# example function to see if lots of different values start with the same word (company)\n",
    "for k in df.MPP_DEALER_NAME.unique():\n",
    "    if 'elprice' in k.lower():\n",
    "        print(k)"
   ]
  },
  {
   "cell_type": "code",
   "execution_count": 10,
   "metadata": {
    "collapsed": true
   },
   "outputs": [],
   "source": [
    "df.loc[df.MPP_DEALER_NAME.str.contains(\"tele\"),\"MPP_DEALER_NAME\"] = \"TELENOR\"\n",
    "df.loc[df.MPP_DEALER_NAME.str.contains(\"elkjøp\"),\"MPP_DEALER_NAME\"] = \"ELKJØP\"\n",
    "df.loc[df.MPP_DEALER_NAME.str.contains(\"spaceworld\"),\"MPP_DEALER_NAME\"] = \"SPACEWORLD\"\n",
    "df.loc[df.MPP_DEALER_NAME.str.contains(\"expert\"),\"MPP_DEALER_NAME\"] = \"EXPERT\"\n",
    "df.loc[df.MPP_DEALER_NAME.str.contains(\"mobildata\"),\"MPP_DEALER_NAME\"] = \"MOBILDATA\"\n",
    "df.loc[df.MPP_DEALER_NAME.str.contains(\"lefdal\"),\"MPP_DEALER_NAME\"] = \"LEFDAL\"\n",
    "df.loc[df.MPP_DEALER_NAME.str.contains(\"nordialog\"),\"MPP_DEALER_NAME\"] = \"NORDIALOG\"\n",
    "df.loc[df.MPP_DEALER_NAME.str.contains(\"coop\"),\"MPP_DEALER_NAME\"] = \"COOP\"\n",
    "df.loc[df.MPP_DEALER_NAME.str.contains(\"elektrosenter\"),\"MPP_DEALER_NAME\"] = \"ELEKTROSENTER\"\n",
    "df.loc[df.MPP_DEALER_NAME.str.contains(\"elprice\"),\"MPP_DEALER_NAME\"] = \"ELPRICE\"\n",
    "\n",
    "df.loc[:, \"COUNT\"] = df.groupby([\"MPP_DEALER_NAME\"]).MPP_DEALER_NAME.transform('count')\n",
    "df.loc[df.COUNT<200,\"MPP_DEALER_NAME\"] = \"OTHER\"\n",
    "# mpp dealer name now has 85 unique values (instead of ~3000!)"
   ]
  },
  {
   "cell_type": "code",
   "execution_count": 11,
   "metadata": {},
   "outputs": [
    {
     "data": {
      "text/plain": [
       "85"
      ]
     },
     "execution_count": 11,
     "metadata": {},
     "output_type": "execute_result"
    }
   ],
   "source": [
    "len(df.MPP_DEALER_NAME.unique())"
   ]
  },
  {
   "cell_type": "code",
   "execution_count": 12,
   "metadata": {},
   "outputs": [
    {
     "data": {
      "text/plain": [
       "806"
      ]
     },
     "execution_count": 12,
     "metadata": {},
     "output_type": "execute_result"
    }
   ],
   "source": [
    "len(df.MPP_DEVICE_MODELNAME.unique())"
   ]
  },
  {
   "cell_type": "code",
   "execution_count": 13,
   "metadata": {
    "collapsed": true
   },
   "outputs": [],
   "source": [
    "df.loc[df.MPP_DEVICE_MODELNAME==\"IPHONE 5 (A1429)\", \"MPP_DEVICE_MODELNAME\"]=\"IPHONE 5\"\n",
    "df.loc[df.MPP_DEVICE_MODELNAME==\"IPHONE 5S (A1457)\", \"MPP_DEVICE_MODELNAME\"]=\"IPHONE 5S\"\n",
    "df.loc[df.MPP_DEVICE_MODELNAME==\"IPHONE 6S (A1688 / A1691 / A1700 / A1633)\", \"MPP_DEVICE_MODELNAME\"]=\"IPHONE 6S\"\n",
    "df.loc[df.MPP_DEVICE_MODELNAME==\"IPHONE 5C (A1532 / A1456)\", \"MPP_DEVICE_MODELNAME\"]=\"IPHONE 5C\"\n",
    "df.loc[df.MPP_DEVICE_MODELNAME==\"GT-I9506 (GALAXY S4 LTE-A)\", \"MPP_DEVICE_MODELNAME\"]=\"GT-I9505 (GALAXY S4 LTE)\"\n",
    "df.loc[df.MPP_DEVICE_MODELNAME==\"SM-G920F (SM-G920I GALAXY S6)\", \"MPP_DEVICE_MODELNAME\"]=\"SM-G920F ( GALAXY S6)\"\n",
    "df.loc[df.MPP_DEVICE_MODELNAME==\"SM-G925F (SM-G925I GALAXY S6 EDGE)\", \"MPP_DEVICE_MODELNAME\"]=\"SM-G925F( GALAXY S6 EDGE)\"\n",
    "df.loc[:, \"COUNT\"] = df.groupby([\"MPP_DEVICE_PRODUCERNAME\", \"MPP_DEVICE_MODELNAME\"]).CU_U_MAIN_DEV_MODELNAME.transform('count')\n",
    "brands = df.MPP_DEVICE_PRODUCERNAME.unique()\n",
    "for brand in brands:\n",
    "    df.loc[(df.COUNT<1000)&(df.MPP_DEVICE_PRODUCERNAME==brand), \"MPP_DEVICE_MODELNAME\"] = brand + \"_other\"\n",
    "    \n",
    "# mpp device modelname now has 78 unique values (instead of ~800)"
   ]
  },
  {
   "cell_type": "code",
   "execution_count": 14,
   "metadata": {},
   "outputs": [
    {
     "data": {
      "text/plain": [
       "78"
      ]
     },
     "execution_count": 14,
     "metadata": {},
     "output_type": "execute_result"
    }
   ],
   "source": [
    "len(df.MPP_DEVICE_MODELNAME.unique())"
   ]
  }
 ],
 "metadata": {
  "kernelspec": {
   "display_name": "Python3 (handset-model)",
   "language": "python",
   "name": "handset-model"
  },
  "language_info": {
   "codemirror_mode": {
    "name": "ipython",
    "version": 3
   },
   "file_extension": ".py",
   "mimetype": "text/x-python",
   "name": "python",
   "nbconvert_exporter": "python",
   "pygments_lexer": "ipython3",
   "version": "3.6.1"
  }
 },
 "nbformat": 4,
 "nbformat_minor": 2
}
