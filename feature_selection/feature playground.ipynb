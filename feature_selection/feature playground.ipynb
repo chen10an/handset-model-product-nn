{
 "cells": [
  {
   "cell_type": "code",
   "execution_count": 1,
   "metadata": {
    "collapsed": true
   },
   "outputs": [],
   "source": [
    "import os\n",
    "import argparse\n",
    "import pandas as pd\n",
    "import pickle"
   ]
  },
  {
   "cell_type": "code",
   "execution_count": 2,
   "metadata": {},
   "outputs": [
    {
     "name": "stderr",
     "output_type": "stream",
     "text": [
      "Using TensorFlow backend.\n"
     ]
    }
   ],
   "source": [
    "# only run this once!\n",
    "os.chdir(\"..\")\n",
    "import handset_model_current"
   ]
  },
  {
   "cell_type": "code",
   "execution_count": 2,
   "metadata": {
    "collapsed": true
   },
   "outputs": [],
   "source": [
    "def bool_arg(string):\n",
    "    value = string.lower()\n",
    "    if value == 'true':\n",
    "        return True\n",
    "    elif value == 'false':\n",
    "        return False\n",
    "    else:\n",
    "        raise argparse.ArgumentTypeError(\"Expected True or False, but got {}\".format(string))\n",
    "\n",
    "# if __name__ == \"__main__\":\n",
    "# minimal preprocessing\n",
    "parser = argparse.ArgumentParser()\n",
    "\n",
    "# model hyperparameters\n",
    "# small number of epochs for experimentation\n",
    "parser.add_argument('--epochs', default=10, type=int,\n",
    "                    help=\"Nr of epochs. Default is 100\", dest=\"epochs\")\n",
    "parser.add_argument('--batch_size', default=256, type=int,\n",
    "                    help=\"Batch size. Default is 32\", dest=\"batch_size\")\n",
    "parser.add_argument('--earlystop', default=3, type=int,\n",
    "                    help=\"Number of epochs with no improvement after which training will be stopped.\",\n",
    "                    dest=\"earlystop\")\n",
    "parser.add_argument('--verbose', default=True, type=bool_arg, help=\"If True (default), verbose output\",\n",
    "                    dest=\"verbose\")\n",
    "\n",
    "# cross_val is not ready to be used\n",
    "parser.add_argument('--cross_val', default=0, type=int,\n",
    "                    help=\"Number of folds (if bigger than 0) to use for cross validation. Default is 0.\",\n",
    "                    dest=\"cross_val\")\n",
    "\n",
    "# no applying class weights\n",
    "parser.add_argument('--apply_class_weights', default=False, type=bool_arg,\n",
    "                    help=\"If True, apply different loss weights (based on frequency of samples) to different \"\n",
    "                         \"classes.\",\n",
    "                    dest=\"apply_class_weights\")\n",
    "\n",
    "# no smooth factor\n",
    "parser.add_argument('--smooth_factor', default=0, type=float,\n",
    "                    help=\"Smooth factor to be used when calculating class weights, so that highly unfrequent \"\n",
    "                    \"classes do not get huge weights.\",\n",
    "                    dest=\"smooth_factor\")\n",
    "\n",
    "# oversampling with neg to pos ratio=1\n",
    "parser.add_argument('--oversample', default=True, type=bool_arg,\n",
    "                    help=\"If True (default), apply oversampling to generate balanced batches.\",\n",
    "                    dest=\"oversample\")\n",
    "parser.add_argument('--ratio', default=1, type=int,\n",
    "                    help=\"Ratio of negative to positive samples to use for balanced batch generation \"\n",
    "                         \"(if oversample=True)\",\n",
    "                    dest=\"ratio\")\n",
    "\n",
    "# activation: prelu\n",
    "parser.add_argument('--activation', default='prelu',\n",
    "                    help=\"NN activation to be used. Default is prelu\",\n",
    "                    dest=\"activation\")\n",
    "\n",
    "# no x_vars\n",
    "parser.add_argument('--x_vars', default=False, type=bool_arg, help=\"If True (default), include X variables\",\n",
    "                    dest=\"x_vars\")\n",
    "\n",
    "# standardize numerical data\n",
    "parser.add_argument('--std', default=True, type=bool_arg, help=\"If True (default), standardize data.\",\n",
    "                    dest=\"std\")\n",
    "\n",
    "# no pca\n",
    "parser.add_argument('--pca_whiten', default=False, type=bool_arg, help=\"If True (default), PCA-whiten data.\",\n",
    "                    dest=\"pca_whiten\")\n",
    "parser.add_argument('--pca_reduce', default=0, type=float,\n",
    "                    help=\"{0, 1, 0<x<1} If 0, no dimensionality reduction is done. If 1, Thomas P. Minka's method \"\n",
    "                         \"('Automatic Choice of Dimensionality for PCA'. NIPS 2000) is used to determine the \"\n",
    "                         \"number of dimensions to keep. If 0 < pca_reduce < 1, enough number of dimensions will \"\n",
    "                         \"be kept to keep 'pca_reduce' percentage of variance explained. Default is 0.9.\",\n",
    "                    dest=\"pca_reduce\")\n",
    "\n",
    "# one-hot encode cat data (embeddings are not used)\n",
    "parser.add_argument('--cat_enc', default='one-hot',\n",
    "                    help=\"Encoding to be used for categorical variables. Default is 'integer' \"\n",
    "                         \"(embedding layers will then be used). Other alternatives: 'hashing_char', \"\n",
    "                         \"'hashing_all', 'one-hot'.\",\n",
    "                    dest=\"cat_enc\")\n",
    "\n",
    "# no log transform\n",
    "parser.add_argument('--log_xform', default=False, type=bool_arg, help=\"If True (default), log-transform data.\",\n",
    "                    dest=\"log_xform\")\n",
    "\n",
    "# encode categorical and binary data as 1/-1 (for fair comparison with standardized numerical data)\n",
    "parser.add_argument('--binary_enc', default=False, type=bool_arg,\n",
    "                    help=\"If False (default), the negative cases of binary variables will be represented as -1 \"\n",
    "                         \"instead of 0.\", dest=\"binary_enc\")\n",
    "\n",
    "# id for saving\n",
    "parser.add_argument('--data_split_id', default=1, type=int,\n",
    "                    help=\"Id for the train-test data split to be used. If a new id is given, a new data split \"\n",
    "                         \"will be generated and saved to disk with the given id. If id is 0 (default), a new \"\n",
    "                         \"split will be generated, but not saved to disk. If a previously used id is given, \"\n",
    "                         \"a previously generated and saved data split with that id will be used.\",\n",
    "                    dest=\"data_split_id\")\n",
    "parser.add_argument(\"-f\")\n",
    "args = parser.parse_args()\n",
    "# main(args)"
   ]
  },
  {
   "cell_type": "code",
   "execution_count": 3,
   "metadata": {
    "scrolled": true
   },
   "outputs": [
    {
     "name": "stdout",
     "output_type": "stream",
     "text": [
      "generating dictionary with levels of catagorical variables...\n",
      "Reusing data split with id=1\n",
      "Loading previously pre-processed numerical data...\n",
      "Loading previously pre-processed categorical data...\n"
     ]
    }
   ],
   "source": [
    "data_train, data_test, cat_levels = handset_model_current.load_and_preprocess_data(args)  # split_id=1 for all features"
   ]
  },
  {
   "cell_type": "code",
   "execution_count": 5,
   "metadata": {},
   "outputs": [
    {
     "data": {
      "text/plain": [
       "((466632, 306),\n",
       " (466632, 756),\n",
       " (116659, 306),\n",
       " (116659, 756),\n",
       " (466632, 1),\n",
       " (116659, 1))"
      ]
     },
     "execution_count": 5,
     "metadata": {},
     "output_type": "execute_result"
    }
   ],
   "source": [
    "data_train['num'].shape, data_train['cat'].shape, \\\n",
    "data_test['num'].shape, data_test['cat'].shape, \\\n",
    "data_train['labels'].shape, data_test['labels'].shape "
   ]
  },
  {
   "cell_type": "code",
   "execution_count": 6,
   "metadata": {
    "collapsed": true
   },
   "outputs": [],
   "source": [
    "X_train = pd.concat([data_train['num'], data_train['cat']], axis=1)\n",
    "X_test = pd.concat([data_test['num'], data_test['cat']], axis=1)\n",
    "X_final = pd.concat([X_train, X_test], ignore_index=True)\n",
    "\n",
    "y = pd.concat([data_train['labels'][handset_model_current.LABEL_COL], \\\n",
    "               data_test['labels'][handset_model_current.LABEL_COL]], ignore_index=True)"
   ]
  },
  {
   "cell_type": "code",
   "execution_count": 7,
   "metadata": {
    "collapsed": true,
    "scrolled": true
   },
   "outputs": [],
   "source": [
    "drop_cols = ['Unnamed: 0', 'ID']\n",
    "X_final.drop(drop_cols, axis=1, inplace=True)"
   ]
  },
  {
   "cell_type": "code",
   "execution_count": 9,
   "metadata": {},
   "outputs": [
    {
     "data": {
      "text/plain": [
       "((466632, 1062), (116659, 1062), (583291, 1060), (583291,))"
      ]
     },
     "execution_count": 9,
     "metadata": {},
     "output_type": "execute_result"
    }
   ],
   "source": [
    "X_train.shape, X_test.shape, X_final.shape, \\\n",
    "y.shape"
   ]
  },
  {
   "cell_type": "code",
   "execution_count": 11,
   "metadata": {},
   "outputs": [
    {
     "name": "stdout",
     "output_type": "stream",
     "text": [
      "CU_AGE 0.0432861057372\n",
      "CU_U_MB_AVG_3MO 0.0455189620728\n",
      "MPP_MB_SUM_3MO 0.0425954516754\n",
      "MPP_MB_AVG_3MO 0.0424083809852\n",
      "MPP_GROSS_PERIODIC_FEE_FULL 0.0489477804739\n",
      "CU_MAP_SEGMENT_6 0.0464689746653\n",
      "CLM_LIVSFASE_SEGMENT_ung voksen 0.04190183543\n",
      "CU_U_MAIN_DEV_OS_TYPE_iphone os 0.0541875972373\n",
      "CU_U_MAIN_DEV_PRODUCERNAME_apple 0.0541875972373\n",
      "MPP_DEVICE_OS_TYPE_iphone os 0.042598699569\n",
      "MPP_DEVICE_PRODUCERNAME_apple 0.042598699569\n"
     ]
    }
   ],
   "source": [
    "corrDict = dict()\n",
    "for colName in X_final.columns:\n",
    "    corr = abs(X_final[colName].corr(y))\n",
    "    if corr > 0.04:\n",
    "        print(colName, corr)\n",
    "        corrDict[colName] = corr"
   ]
  },
  {
   "cell_type": "code",
   "execution_count": 23,
   "metadata": {
    "collapsed": true
   },
   "outputs": [],
   "source": [
    "os.chdir(\"feature_selection\")"
   ]
  },
  {
   "cell_type": "code",
   "execution_count": 24,
   "metadata": {
    "collapsed": true
   },
   "outputs": [],
   "source": [
    "with open('corrDict.pickle', 'wb') as f:\n",
    "    pickle.dump(corrDict, f)"
   ]
  },
  {
   "cell_type": "code",
   "execution_count": 25,
   "metadata": {
    "collapsed": true
   },
   "outputs": [],
   "source": [
    "group = X_final.groupby(y)"
   ]
  },
  {
   "cell_type": "code",
   "execution_count": 26,
   "metadata": {
    "collapsed": true
   },
   "outputs": [],
   "source": [
    "X0 = X_final.loc[group.indices[0], :]\n",
    "X1 = X_final.loc[group.indices[1], :]"
   ]
  },
  {
   "cell_type": "code",
   "execution_count": 28,
   "metadata": {
    "collapsed": true
   },
   "outputs": [],
   "source": [
    "y0 = y.loc[group.indices[0]]\n",
    "y1 = y.loc[group.indices[1]]"
   ]
  },
  {
   "cell_type": "code",
   "execution_count": 30,
   "metadata": {
    "collapsed": true
   },
   "outputs": [],
   "source": [
    "mean1 = X1.mean()\n",
    "mean0 = X0.mean()"
   ]
  },
  {
   "cell_type": "code",
   "execution_count": 31,
   "metadata": {
    "collapsed": true
   },
   "outputs": [],
   "source": [
    "meanDiff = abs(mean1 - mean0)"
   ]
  },
  {
   "cell_type": "code",
   "execution_count": 32,
   "metadata": {},
   "outputs": [
    {
     "name": "stdout",
     "output_type": "stream",
     "text": [
      "CU_AGE 0.614539254253\n",
      "CU_U_NET_REV_AVG_3MO 0.514587359183\n",
      "CU_U_MB_AVG_3MO 0.641625300575\n",
      "MPP_MB_LAST1 0.521722536441\n",
      "MPP_MB_LAST2 0.551535217464\n",
      "MPP_MB_LAST3 0.567267376188\n",
      "MPP_MB_SUM_3MO 0.60158436149\n",
      "MPP_MB_AVG_3MO 0.599217503742\n",
      "MPP_GROSS_PERIODIC_FEE_FULL 0.693419478547\n",
      "MPP_NET_REVENUE 0.56731436173\n",
      "CU_MAP_SEGMENT_6 0.55108643158\n",
      "CU_U_MAIN_DEV_OS_TYPE_iphone os 0.761851886577\n",
      "CU_U_MAIN_DEV_OS_TYPE_android 0.505456057002\n",
      "CU_U_MAIN_DEV_PRODUCERNAME_apple 0.761851886577\n",
      "MPP_DEVICE_OS_TYPE_iphone os 0.604549872621\n",
      "MPP_DEVICE_OS_TYPE_android 0.547848345531\n",
      "MPP_DEVICE_PRODUCERNAME_apple 0.604549872621\n"
     ]
    }
   ],
   "source": [
    "meanDict = dict()\n",
    "for i in meanDiff.index.values:\n",
    "    if meanDiff[i] > 0.5:\n",
    "        print(i, meanDiff[i])\n",
    "        meanDict[i] = meanDiff[i]"
   ]
  },
  {
   "cell_type": "code",
   "execution_count": 34,
   "metadata": {
    "collapsed": true
   },
   "outputs": [],
   "source": [
    "with open('meanDict.pickle', 'wb') as f:\n",
    "    pickle.dump(meanDict, f)"
   ]
  },
  {
   "cell_type": "code",
   "execution_count": 35,
   "metadata": {
    "collapsed": true
   },
   "outputs": [],
   "source": [
    "var1 = X1.var()\n",
    "var0 = X0.var()"
   ]
  },
  {
   "cell_type": "code",
   "execution_count": 36,
   "metadata": {
    "collapsed": true
   },
   "outputs": [],
   "source": [
    "varDiff = abs(var1 - var0)"
   ]
  },
  {
   "cell_type": "code",
   "execution_count": 37,
   "metadata": {},
   "outputs": [
    {
     "name": "stdout",
     "output_type": "stream",
     "text": [
      "CU_MPR_NO_MMS_DOM_LAST1 1.42333386142\n",
      "CU_MPR_NO_SMS_INT_LAST1 1.06722139832\n",
      "CU_FIX_NO_VOICE_INT_LAST2 2.49542246679\n",
      "CU_FIX_NO_VOICE_INT_LAST3 3.05030083975\n",
      "CU_U_MB_AVG_3MO 1.56430575587\n",
      "MPP_BANKID_USED_LAST1 1.57393625331\n",
      "MPP_BANKID_USED_LAST2 1.54462117929\n",
      "MPP_BANKID_USED_LAST3 1.55374375763\n",
      "MPP_MB_LAST1 2.3390980876\n",
      "MPP_MB_LAST2 1.48972499955\n",
      "MPP_MB_LAST3 1.71293747125\n",
      "MPP_MB_SUM_3MO 1.65071812047\n",
      "MPP_MB_AVG_3MO 1.65009006214\n",
      "MPP_KR_SMS_INT_LAST3 2.54310807937\n",
      "MPP_NO_VOICE_DOM_LAST3 1.00714918042\n",
      "MPP_NO_VOICE_INT_LAST1 1.17235679347\n",
      "MPP_NO_VOICE_INT_LAST2 1.11125668268\n",
      "MPP_NO_VOICE_INT_LAST3 1.12647016259\n",
      "MPP_NET_OTHER_FEE 1.30841506924\n"
     ]
    }
   ],
   "source": [
    "varDict = dict()\n",
    "for i in varDiff.index.values:\n",
    "    if varDiff[i] > 1:\n",
    "        print(i, varDiff[i])\n",
    "        varDict[i] = varDiff[i]"
   ]
  },
  {
   "cell_type": "code",
   "execution_count": 39,
   "metadata": {
    "collapsed": true
   },
   "outputs": [],
   "source": [
    "with open('varDict.pickle', 'wb') as f:\n",
    "    pickle.dump(varDict, f)"
   ]
  },
  {
   "cell_type": "code",
   "execution_count": 41,
   "metadata": {
    "collapsed": true
   },
   "outputs": [],
   "source": [
    "med1 = X1.median()\n",
    "med0 = X0.median()"
   ]
  },
  {
   "cell_type": "code",
   "execution_count": 42,
   "metadata": {
    "collapsed": true
   },
   "outputs": [],
   "source": [
    "medDiff = abs(med1 - med0)"
   ]
  },
  {
   "cell_type": "code",
   "execution_count": 43,
   "metadata": {
    "scrolled": true
   },
   "outputs": [
    {
     "name": "stdout",
     "output_type": "stream",
     "text": [
      "CU_AGE 0.60820436842\n",
      "HH_ANT_VOKSEN 1.20883448015\n",
      "CU_U_MB_AVG_3MO 0.501910253248\n",
      "CU_U_MAIN_DEV_MODEL_ID 0.79163023219\n",
      "MPP_GROSS_PERIODIC_FEE_FULL 0.52300250517\n",
      "MPP_NET_REVENUE 0.525811311234\n",
      "CU_GENDER_m 2.0\n",
      "CU_GENDER_k 2.0\n",
      "CU_ADSL_OK_RESULT_verify 2.0\n",
      "CU_U_MAIN_DEV_OS_TYPE_iphone os 2.0\n",
      "CU_U_MAIN_DEV_PRODUCERNAME_apple 2.0\n",
      "CU_U_MAIN_DEV_CATEGORY_smartphone lte 2.0\n",
      "MPP_DEVICE_CATEGORY_smartphone lte 2.0\n",
      "MPP_BINDING_TYPE_binding terminal 2.0\n"
     ]
    }
   ],
   "source": [
    "medDict = dict()\n",
    "for i in medDiff.index.values:\n",
    "    if medDiff[i] > 0.5:\n",
    "        print(i, medDiff[i])\n",
    "        medDict[i] = medDiff[i]"
   ]
  },
  {
   "cell_type": "code",
   "execution_count": 45,
   "metadata": {
    "collapsed": true
   },
   "outputs": [],
   "source": [
    "with open('medDict.pickle', 'wb') as f:\n",
    "    pickle.dump(medDict, f)"
   ]
  }
 ],
 "metadata": {
  "anaconda-cloud": {},
  "kernelspec": {
   "display_name": "Python3 (handset-model)",
   "language": "python",
   "name": "handset-model"
  },
  "language_info": {
   "codemirror_mode": {
    "name": "ipython",
    "version": 3
   },
   "file_extension": ".py",
   "mimetype": "text/x-python",
   "name": "python",
   "nbconvert_exporter": "python",
   "pygments_lexer": "ipython3",
   "version": "3.6.1"
  }
 },
 "nbformat": 4,
 "nbformat_minor": 2
}
