{
 "cells": [
  {
   "cell_type": "code",
   "execution_count": 1,
   "metadata": {},
   "outputs": [],
   "source": [
    "import pandas as pd\n",
    "import numpy as np\n",
    "\n",
    "from sklearn.metrics import roc_auc_score, precision_score\n",
    "from sklearn.metrics import accuracy_score\n",
    "from sklearn.metrics import recall_score\n",
    "from sklearn.metrics import confusion_matrix\n",
    "from sklearn.model_selection import GridSearchCV\n",
    "\n",
    "import os"
   ]
  },
  {
   "cell_type": "code",
   "execution_count": 2,
   "metadata": {
    "collapsed": true
   },
   "outputs": [],
   "source": [
    "TARGET = 'TARGET_S_TO_S_APPLE'"
   ]
  },
  {
   "cell_type": "code",
   "execution_count": 3,
   "metadata": {},
   "outputs": [
    {
     "data": {
      "text/plain": [
       "(583291,)"
      ]
     },
     "execution_count": 3,
     "metadata": {},
     "output_type": "execute_result"
    }
   ],
   "source": [
    "os.chdir(\"..\")\n",
    "y = pd.read_csv(\"handset_data_train_wo_X.csv\", usecols=[TARGET])[TARGET]\n",
    "os.chdir(\"presentation\")\n",
    "\n",
    "y.shape"
   ]
  },
  {
   "cell_type": "code",
   "execution_count": 4,
   "metadata": {
    "collapsed": true
   },
   "outputs": [],
   "source": [
    "y_rand = np.random.rand(y.shape[0])"
   ]
  },
  {
   "cell_type": "code",
   "execution_count": 5,
   "metadata": {
    "collapsed": true
   },
   "outputs": [],
   "source": [
    "y_pred = []\n",
    "for i in y_rand:\n",
    "    if i >= 0.5:\n",
    "        y_pred.append(1)\n",
    "    else:\n",
    "        y_pred.append(0)"
   ]
  },
  {
   "cell_type": "code",
   "execution_count": 6,
   "metadata": {},
   "outputs": [
    {
     "name": "stdout",
     "output_type": "stream",
     "text": [
      "roc auc: 0.494383597572\n",
      "accuracy: 0.499210514134\n",
      "precision: 0.00487253676659\n",
      "recall: 0.489508083935\n",
      "\n",
      "confusion matrix:\n",
      "[[289762 290622]\n",
      " [  1484   1423]]\n",
      "true positive rate: 0.489508083935\n"
     ]
    }
   ],
   "source": [
    "roc_auc = roc_auc_score(y.values, y_pred)\n",
    "a = accuracy_score(y.values, np.rint(y_pred))\n",
    "p = precision_score(y.values, np.rint(y_pred))\n",
    "r = recall_score(y.values, np.rint(y_pred))\n",
    "m = confusion_matrix(y.values, np.rint(y_pred))\n",
    "true_pos_rate = m[1][1]/(m[1][1]+m[1][0])\n",
    "\n",
    "print(\"roc auc:\", roc_auc)\n",
    "print(\"accuracy:\", a)\n",
    "print(\"precision:\", p)\n",
    "print(\"recall:\", r)\n",
    "print(\"\\nconfusion matrix:\\n{}\".format(m))\n",
    "print(\"true positive rate:\", true_pos_rate)"
   ]
  }
 ],
 "metadata": {
  "kernelspec": {
   "display_name": "Python3 (handset-model)",
   "language": "python",
   "name": "handset-model"
  },
  "language_info": {
   "codemirror_mode": {
    "name": "ipython",
    "version": 3
   },
   "file_extension": ".py",
   "mimetype": "text/x-python",
   "name": "python",
   "nbconvert_exporter": "python",
   "pygments_lexer": "ipython3",
   "version": "3.6.1"
  }
 },
 "nbformat": 4,
 "nbformat_minor": 2
}
